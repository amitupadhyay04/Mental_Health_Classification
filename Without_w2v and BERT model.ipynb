{
 "cells": [
  {
   "cell_type": "code",
   "execution_count": 4,
   "metadata": {
    "id": "OWBXjypSzxeB"
   },
   "outputs": [],
   "source": [
    "import numpy as np\n",
    "import pandas as pd\n",
    "import matplotlib.pyplot as plt\n",
    "import re"
   ]
  },
  {
   "cell_type": "code",
   "execution_count": 5,
   "metadata": {
    "id": "iybLjsKLzxeK"
   },
   "outputs": [],
   "source": [
    "counseldf = pd.read_csv(r\"C:\\Users\\amitu\\Minor Project\\counselchat-data.csv\")"
   ]
  },
  {
   "cell_type": "code",
   "execution_count": 6,
   "metadata": {
    "colab": {
     "base_uri": "https://localhost:8080/"
    },
    "id": "X8QcYMX0zxeL",
    "outputId": "b626b455-19dc-4af3-ead4-42b5df9c4680"
   },
   "outputs": [
    {
     "name": "stdout",
     "output_type": "stream",
     "text": [
      "Index(['questionID', 'questionTitle', 'questionText', 'questionUrl', 'topics',\n",
      "       'therapistName', 'therapistUrl', 'answerText', 'upvotes'],\n",
      "      dtype='object')\n"
     ]
    }
   ],
   "source": [
    "print(counseldf.columns)"
   ]
  },
  {
   "cell_type": "code",
   "execution_count": 7,
   "metadata": {
    "colab": {
     "base_uri": "https://localhost:8080/",
     "height": 538
    },
    "id": "InUd0aa9zxeN",
    "outputId": "73c4c75b-504b-427b-9537-ccf5fb1b57d5"
   },
   "outputs": [
    {
     "data": {
      "text/html": [
       "<div>\n",
       "<style scoped>\n",
       "    .dataframe tbody tr th:only-of-type {\n",
       "        vertical-align: middle;\n",
       "    }\n",
       "\n",
       "    .dataframe tbody tr th {\n",
       "        vertical-align: top;\n",
       "    }\n",
       "\n",
       "    .dataframe thead th {\n",
       "        text-align: right;\n",
       "    }\n",
       "</style>\n",
       "<table border=\"1\" class=\"dataframe\">\n",
       "  <thead>\n",
       "    <tr style=\"text-align: right;\">\n",
       "      <th></th>\n",
       "      <th>questionID</th>\n",
       "      <th>questionTitle</th>\n",
       "      <th>questionText</th>\n",
       "      <th>questionUrl</th>\n",
       "      <th>topics</th>\n",
       "      <th>therapistName</th>\n",
       "      <th>therapistUrl</th>\n",
       "      <th>answerText</th>\n",
       "      <th>upvotes</th>\n",
       "    </tr>\n",
       "  </thead>\n",
       "  <tbody>\n",
       "    <tr>\n",
       "      <th>0</th>\n",
       "      <td>5566fab2a64752d71ec3ca69</td>\n",
       "      <td>Escalating disagreements between mother and wife</td>\n",
       "      <td>My wife and mother are having tense disagreeme...</td>\n",
       "      <td>https://counselchat.com/questions/escalating-d...</td>\n",
       "      <td>Family Conflict</td>\n",
       "      <td>Kristi King-Morgan, LMSW</td>\n",
       "      <td>https://counselchat.com/therapists/kristi-king...</td>\n",
       "      <td>&lt;p&gt;What you are describing is something psycho...</td>\n",
       "      <td>0</td>\n",
       "    </tr>\n",
       "    <tr>\n",
       "      <th>1</th>\n",
       "      <td>5566f94fa64752d71ec3ca64</td>\n",
       "      <td>I'm addicted to smoking. How can I stop?</td>\n",
       "      <td>I'm planning to have baby, so I have to quit s...</td>\n",
       "      <td>https://counselchat.com/questions/i-m-addicted...</td>\n",
       "      <td>Substance Abuse,Addiction</td>\n",
       "      <td>Rebecca Duellman</td>\n",
       "      <td>https://counselchat.com/therapists/rebecca-due...</td>\n",
       "      <td>&lt;p&gt;Hi. Good for you in planning ahead to do wh...</td>\n",
       "      <td>0</td>\n",
       "    </tr>\n",
       "    <tr>\n",
       "      <th>2</th>\n",
       "      <td>5567d26887a1cc0c3f3d8f46</td>\n",
       "      <td>Keeping secrets from my family</td>\n",
       "      <td>I have secrets in my mind, and I don't know wh...</td>\n",
       "      <td>https://counselchat.com/questions/keeping-secr...</td>\n",
       "      <td>Family Conflict</td>\n",
       "      <td>Jeevna Bajaj</td>\n",
       "      <td>https://counselchat.com/therapists/jeevna-bajaj</td>\n",
       "      <td>&lt;p&gt;It sounds like keeping the secrets has beco...</td>\n",
       "      <td>0</td>\n",
       "    </tr>\n",
       "    <tr>\n",
       "      <th>3</th>\n",
       "      <td>556bed15c969ba5861709df5</td>\n",
       "      <td>The Underlying Causes of Being Possessive</td>\n",
       "      <td>I am extremely possessive in my relationships ...</td>\n",
       "      <td>https://counselchat.com/questions/the-underlyi...</td>\n",
       "      <td>Behavioral Change,Social Relationships</td>\n",
       "      <td>Rebecca Duellman</td>\n",
       "      <td>https://counselchat.com/therapists/rebecca-due...</td>\n",
       "      <td>&lt;p&gt;Hi there. It's great you are able to realiz...</td>\n",
       "      <td>0</td>\n",
       "    </tr>\n",
       "    <tr>\n",
       "      <th>4</th>\n",
       "      <td>556ba115c969ba5861709de6</td>\n",
       "      <td>Can I control anxiety without medication?</td>\n",
       "      <td>I had a head injury a few years ago and my min...</td>\n",
       "      <td>https://counselchat.com/questions/can-i-contro...</td>\n",
       "      <td>Anxiety</td>\n",
       "      <td>Rebecca Duellman</td>\n",
       "      <td>https://counselchat.com/therapists/rebecca-due...</td>\n",
       "      <td>&lt;p&gt;You didn't say what or how many medications...</td>\n",
       "      <td>0</td>\n",
       "    </tr>\n",
       "  </tbody>\n",
       "</table>\n",
       "</div>"
      ],
      "text/plain": [
       "                 questionID                                     questionTitle  \\\n",
       "0  5566fab2a64752d71ec3ca69  Escalating disagreements between mother and wife   \n",
       "1  5566f94fa64752d71ec3ca64          I'm addicted to smoking. How can I stop?   \n",
       "2  5567d26887a1cc0c3f3d8f46                    Keeping secrets from my family   \n",
       "3  556bed15c969ba5861709df5         The Underlying Causes of Being Possessive   \n",
       "4  556ba115c969ba5861709de6         Can I control anxiety without medication?   \n",
       "\n",
       "                                        questionText  \\\n",
       "0  My wife and mother are having tense disagreeme...   \n",
       "1  I'm planning to have baby, so I have to quit s...   \n",
       "2  I have secrets in my mind, and I don't know wh...   \n",
       "3  I am extremely possessive in my relationships ...   \n",
       "4  I had a head injury a few years ago and my min...   \n",
       "\n",
       "                                         questionUrl  \\\n",
       "0  https://counselchat.com/questions/escalating-d...   \n",
       "1  https://counselchat.com/questions/i-m-addicted...   \n",
       "2  https://counselchat.com/questions/keeping-secr...   \n",
       "3  https://counselchat.com/questions/the-underlyi...   \n",
       "4  https://counselchat.com/questions/can-i-contro...   \n",
       "\n",
       "                                   topics             therapistName  \\\n",
       "0                         Family Conflict  Kristi King-Morgan, LMSW   \n",
       "1               Substance Abuse,Addiction          Rebecca Duellman   \n",
       "2                         Family Conflict              Jeevna Bajaj   \n",
       "3  Behavioral Change,Social Relationships          Rebecca Duellman   \n",
       "4                                 Anxiety          Rebecca Duellman   \n",
       "\n",
       "                                        therapistUrl  \\\n",
       "0  https://counselchat.com/therapists/kristi-king...   \n",
       "1  https://counselchat.com/therapists/rebecca-due...   \n",
       "2    https://counselchat.com/therapists/jeevna-bajaj   \n",
       "3  https://counselchat.com/therapists/rebecca-due...   \n",
       "4  https://counselchat.com/therapists/rebecca-due...   \n",
       "\n",
       "                                          answerText  upvotes  \n",
       "0  <p>What you are describing is something psycho...        0  \n",
       "1  <p>Hi. Good for you in planning ahead to do wh...        0  \n",
       "2  <p>It sounds like keeping the secrets has beco...        0  \n",
       "3  <p>Hi there. It's great you are able to realiz...        0  \n",
       "4  <p>You didn't say what or how many medications...        0  "
      ]
     },
     "execution_count": 7,
     "metadata": {},
     "output_type": "execute_result"
    }
   ],
   "source": [
    "counseldf.head()\n"
   ]
  },
  {
   "cell_type": "markdown",
   "metadata": {
    "id": "YMwamVmEzxeP"
   },
   "source": [
    "As the dataset contains some columns with personal information about the therapist, those columns are removed. Moreover, for the purposes of this project the only relevant columns are 'questionText' and 'topics'. Hence all other columns except those are removed before further processing."
   ]
  },
  {
   "cell_type": "code",
   "execution_count": 8,
   "metadata": {
    "id": "6cfFefXszxeS"
   },
   "outputs": [],
   "source": [
    "counseldf.drop(['questionID', 'questionTitle', 'questionUrl', 'therapistName', 'therapistUrl','answerText', 'upvotes'], axis = 1, inplace=True)"
   ]
  },
  {
   "cell_type": "code",
   "execution_count": 9,
   "metadata": {
    "colab": {
     "base_uri": "https://localhost:8080/",
     "height": 206
    },
    "id": "vK-pB4hRzxeT",
    "outputId": "14b2c6b9-3281-493c-994f-cfa6387ac126"
   },
   "outputs": [
    {
     "data": {
      "text/html": [
       "<div>\n",
       "<style scoped>\n",
       "    .dataframe tbody tr th:only-of-type {\n",
       "        vertical-align: middle;\n",
       "    }\n",
       "\n",
       "    .dataframe tbody tr th {\n",
       "        vertical-align: top;\n",
       "    }\n",
       "\n",
       "    .dataframe thead th {\n",
       "        text-align: right;\n",
       "    }\n",
       "</style>\n",
       "<table border=\"1\" class=\"dataframe\">\n",
       "  <thead>\n",
       "    <tr style=\"text-align: right;\">\n",
       "      <th></th>\n",
       "      <th>questionText</th>\n",
       "      <th>topics</th>\n",
       "    </tr>\n",
       "  </thead>\n",
       "  <tbody>\n",
       "    <tr>\n",
       "      <th>0</th>\n",
       "      <td>My wife and mother are having tense disagreeme...</td>\n",
       "      <td>Family Conflict</td>\n",
       "    </tr>\n",
       "    <tr>\n",
       "      <th>1</th>\n",
       "      <td>I'm planning to have baby, so I have to quit s...</td>\n",
       "      <td>Substance Abuse,Addiction</td>\n",
       "    </tr>\n",
       "    <tr>\n",
       "      <th>2</th>\n",
       "      <td>I have secrets in my mind, and I don't know wh...</td>\n",
       "      <td>Family Conflict</td>\n",
       "    </tr>\n",
       "    <tr>\n",
       "      <th>3</th>\n",
       "      <td>I am extremely possessive in my relationships ...</td>\n",
       "      <td>Behavioral Change,Social Relationships</td>\n",
       "    </tr>\n",
       "    <tr>\n",
       "      <th>4</th>\n",
       "      <td>I had a head injury a few years ago and my min...</td>\n",
       "      <td>Anxiety</td>\n",
       "    </tr>\n",
       "  </tbody>\n",
       "</table>\n",
       "</div>"
      ],
      "text/plain": [
       "                                        questionText  \\\n",
       "0  My wife and mother are having tense disagreeme...   \n",
       "1  I'm planning to have baby, so I have to quit s...   \n",
       "2  I have secrets in my mind, and I don't know wh...   \n",
       "3  I am extremely possessive in my relationships ...   \n",
       "4  I had a head injury a few years ago and my min...   \n",
       "\n",
       "                                   topics  \n",
       "0                         Family Conflict  \n",
       "1               Substance Abuse,Addiction  \n",
       "2                         Family Conflict  \n",
       "3  Behavioral Change,Social Relationships  \n",
       "4                                 Anxiety  "
      ]
     },
     "execution_count": 9,
     "metadata": {},
     "output_type": "execute_result"
    }
   ],
   "source": [
    "counseldf.head()"
   ]
  },
  {
   "cell_type": "code",
   "execution_count": 10,
   "metadata": {
    "colab": {
     "base_uri": "https://localhost:8080/"
    },
    "id": "A_yKskT-zxeV",
    "outputId": "4297087c-e873-445b-f5de-ee59f222f84d"
   },
   "outputs": [
    {
     "data": {
      "text/plain": [
       "(1482, 2)"
      ]
     },
     "execution_count": 10,
     "metadata": {},
     "output_type": "execute_result"
    }
   ],
   "source": [
    "counseldf.shape"
   ]
  },
  {
   "cell_type": "code",
   "execution_count": 11,
   "metadata": {
    "colab": {
     "base_uri": "https://localhost:8080/"
    },
    "id": "n2sdV3gIzxeX",
    "outputId": "10e154eb-ef8f-4f71-b618-8bdfcf52f685"
   },
   "outputs": [
    {
     "data": {
      "text/plain": [
       "questionText    99\n",
       "topics          10\n",
       "dtype: int64"
      ]
     },
     "execution_count": 11,
     "metadata": {},
     "output_type": "execute_result"
    }
   ],
   "source": [
    "counseldf.isnull().sum()"
   ]
  },
  {
   "cell_type": "code",
   "execution_count": 12,
   "metadata": {
    "id": "Auv4Hc-hzxea"
   },
   "outputs": [],
   "source": [
    "counseldf = counseldf.dropna(axis=0)"
   ]
  },
  {
   "cell_type": "code",
   "execution_count": 13,
   "metadata": {
    "colab": {
     "base_uri": "https://localhost:8080/"
    },
    "id": "X3KqFxkNzxeb",
    "outputId": "5ef27c4a-c2b4-45db-a14a-17fd55c991a2"
   },
   "outputs": [
    {
     "data": {
      "text/plain": [
       "questionText    0\n",
       "topics          0\n",
       "dtype: int64"
      ]
     },
     "execution_count": 13,
     "metadata": {},
     "output_type": "execute_result"
    }
   ],
   "source": [
    "counseldf.isnull().sum()"
   ]
  },
  {
   "cell_type": "code",
   "execution_count": 14,
   "metadata": {
    "colab": {
     "base_uri": "https://localhost:8080/"
    },
    "id": "jQSeeDUTzxec",
    "outputId": "e2efea3d-5618-49c2-e0c1-ac9b73a10056"
   },
   "outputs": [
    {
     "data": {
      "text/plain": [
       "(1376, 2)"
      ]
     },
     "execution_count": 14,
     "metadata": {},
     "output_type": "execute_result"
    }
   ],
   "source": [
    "counseldf.shape"
   ]
  },
  {
   "cell_type": "markdown",
   "metadata": {
    "id": "lnAIWQPVzxed"
   },
   "source": [
    "The 'topics' column is the target categories for the samples. As seen in the first few lines, some of the samples contain multiple labels. An LSTM network was tried to train using multiple labels but as the model failed to converge, it was decided that only the first label would be kept as the target label of the sample if it has multiple labels. The below code does just that."
   ]
  },
  {
   "cell_type": "code",
   "execution_count": 15,
   "metadata": {
    "colab": {
     "base_uri": "https://localhost:8080/"
    },
    "id": "J_uRXMUjzxee",
    "outputId": "eaf2fbe2-ff7c-47e3-f981-ff2c82ac99a8"
   },
   "outputs": [],
   "source": [
    "counseldf['topics'] = counseldf['topics'].str.split(',')\n",
    "counseldf['topics'] = counseldf['topics'].apply(lambda x: x[0])"
   ]
  },
  {
   "cell_type": "code",
   "execution_count": 16,
   "metadata": {
    "colab": {
     "base_uri": "https://localhost:8080/",
     "height": 206
    },
    "id": "PwntJhxszxee",
    "outputId": "0f69949a-4a54-4026-fd52-1c39b7ca4898"
   },
   "outputs": [
    {
     "data": {
      "text/html": [
       "<div>\n",
       "<style scoped>\n",
       "    .dataframe tbody tr th:only-of-type {\n",
       "        vertical-align: middle;\n",
       "    }\n",
       "\n",
       "    .dataframe tbody tr th {\n",
       "        vertical-align: top;\n",
       "    }\n",
       "\n",
       "    .dataframe thead th {\n",
       "        text-align: right;\n",
       "    }\n",
       "</style>\n",
       "<table border=\"1\" class=\"dataframe\">\n",
       "  <thead>\n",
       "    <tr style=\"text-align: right;\">\n",
       "      <th></th>\n",
       "      <th>questionText</th>\n",
       "      <th>topics</th>\n",
       "    </tr>\n",
       "  </thead>\n",
       "  <tbody>\n",
       "    <tr>\n",
       "      <th>0</th>\n",
       "      <td>My wife and mother are having tense disagreeme...</td>\n",
       "      <td>Family Conflict</td>\n",
       "    </tr>\n",
       "    <tr>\n",
       "      <th>1</th>\n",
       "      <td>I'm planning to have baby, so I have to quit s...</td>\n",
       "      <td>Substance Abuse</td>\n",
       "    </tr>\n",
       "    <tr>\n",
       "      <th>2</th>\n",
       "      <td>I have secrets in my mind, and I don't know wh...</td>\n",
       "      <td>Family Conflict</td>\n",
       "    </tr>\n",
       "    <tr>\n",
       "      <th>3</th>\n",
       "      <td>I am extremely possessive in my relationships ...</td>\n",
       "      <td>Behavioral Change</td>\n",
       "    </tr>\n",
       "    <tr>\n",
       "      <th>4</th>\n",
       "      <td>I had a head injury a few years ago and my min...</td>\n",
       "      <td>Anxiety</td>\n",
       "    </tr>\n",
       "  </tbody>\n",
       "</table>\n",
       "</div>"
      ],
      "text/plain": [
       "                                        questionText             topics\n",
       "0  My wife and mother are having tense disagreeme...    Family Conflict\n",
       "1  I'm planning to have baby, so I have to quit s...    Substance Abuse\n",
       "2  I have secrets in my mind, and I don't know wh...    Family Conflict\n",
       "3  I am extremely possessive in my relationships ...  Behavioral Change\n",
       "4  I had a head injury a few years ago and my min...            Anxiety"
      ]
     },
     "execution_count": 16,
     "metadata": {},
     "output_type": "execute_result"
    }
   ],
   "source": [
    "counseldf.head()"
   ]
  },
  {
   "cell_type": "code",
   "execution_count": 17,
   "metadata": {
    "colab": {
     "base_uri": "https://localhost:8080/"
    },
    "id": "wPU419Nczxef",
    "outputId": "586f54f4-8e0b-49ae-d0e1-6c586bebf6bb"
   },
   "outputs": [
    {
     "data": {
      "text/plain": [
       "topics\n",
       "Relationships                246\n",
       "Anxiety                      178\n",
       "Family Conflict              113\n",
       "Depression                    97\n",
       "Marriage                      89\n",
       "Self-esteem                   64\n",
       "Parenting                     59\n",
       "Trauma                        51\n",
       "Human Sexuality               45\n",
       "Behavioral Change             43\n",
       "Intimacy                      42\n",
       "Relationship Dissolution      42\n",
       "Counseling Fundamentals       39\n",
       "Social Relationships          38\n",
       "Anger Management              31\n",
       "Professional Ethics           28\n",
       "LGBTQ                         24\n",
       "Stress                        24\n",
       "Spirituality                  19\n",
       "Addiction                     14\n",
       "Grief and Loss                14\n",
       "Substance Abuse               14\n",
       "Legal & Regulatory            11\n",
       "Sleep Improvement             10\n",
       "Diagnosis                     10\n",
       "Domestic Violence              9\n",
       "Workplace Relationships        8\n",
       "Eating Disorders               4\n",
       "Military Issues                3\n",
       "Children & Adolescents         3\n",
       "Career Counseling              2\n",
       "Alzheimer's                    2\n",
       "Name: count, dtype: int64"
      ]
     },
     "execution_count": 17,
     "metadata": {},
     "output_type": "execute_result"
    }
   ],
   "source": [
    "counseldf['topics'].value_counts()"
   ]
  },
  {
   "cell_type": "code",
   "execution_count": 18,
   "metadata": {
    "colab": {
     "base_uri": "https://localhost:8080/",
     "height": 570
    },
    "id": "lQyaTPQJzxef",
    "outputId": "4c63883d-b6d2-447c-85e8-23d7f9505714"
   },
   "outputs": [
    {
     "data": {
      "image/png": "[encoded data removed]",
      "text/plain": [
       "<Figure size 2000x1000 with 1 Axes>"
      ]
     },
     "metadata": {},
     "output_type": "display_data"
    }
   ],
   "source": [
    "fig, ax = plt.subplots(figsize=(20, 10))\n",
    "counseldf.groupby('topics').agg('count').sort_values('questionText', ascending=False).plot.bar(ax=ax)\n",
    "ax.set_title(\"Number of Patient Questions by Topic\", fontsize=25)\n",
    "ax.set_ylabel(\"Number of Questions\", fontsize=20)\n",
    "ax.set_xlabel(\"Topic\", fontsize=20)\n",
    "ax.set_xticklabels(ax.get_xticklabels(), fontsize=15)\n",
    "plt.tight_layout()\n",
    "plt.show()"
   ]
  },
  {
   "cell_type": "markdown",
   "metadata": {
    "id": "dWxaSyo4zxeg"
   },
   "source": [
    "After this initial analysis to look at the overall dataset, the 'topics' column could be one-hot encoded so that it is ready for the learning model to take as targets."
   ]
  },
  {
   "cell_type": "code",
   "execution_count": 19,
   "metadata": {
    "colab": {
     "base_uri": "https://localhost:8080/",
     "height": 478
    },
    "id": "Pt0vYPsOzxeg",
    "outputId": "14471236-9572-46ea-d651-d365676546b5"
   },
   "outputs": [
    {
     "data": {
      "text/html": [
       "<div>\n",
       "<style scoped>\n",
       "    .dataframe tbody tr th:only-of-type {\n",
       "        vertical-align: middle;\n",
       "    }\n",
       "\n",
       "    .dataframe tbody tr th {\n",
       "        vertical-align: top;\n",
       "    }\n",
       "\n",
       "    .dataframe thead th {\n",
       "        text-align: right;\n",
       "    }\n",
       "</style>\n",
       "<table border=\"1\" class=\"dataframe\">\n",
       "  <thead>\n",
       "    <tr style=\"text-align: right;\">\n",
       "      <th></th>\n",
       "      <th>Addiction</th>\n",
       "      <th>Alzheimer's</th>\n",
       "      <th>Anger Management</th>\n",
       "      <th>Anxiety</th>\n",
       "      <th>Behavioral Change</th>\n",
       "      <th>Career Counseling</th>\n",
       "      <th>Children &amp; Adolescents</th>\n",
       "      <th>Counseling Fundamentals</th>\n",
       "      <th>Depression</th>\n",
       "      <th>Diagnosis</th>\n",
       "      <th>...</th>\n",
       "      <th>Relationship Dissolution</th>\n",
       "      <th>Relationships</th>\n",
       "      <th>Self-esteem</th>\n",
       "      <th>Sleep Improvement</th>\n",
       "      <th>Social Relationships</th>\n",
       "      <th>Spirituality</th>\n",
       "      <th>Stress</th>\n",
       "      <th>Substance Abuse</th>\n",
       "      <th>Trauma</th>\n",
       "      <th>Workplace Relationships</th>\n",
       "    </tr>\n",
       "  </thead>\n",
       "  <tbody>\n",
       "    <tr>\n",
       "      <th>0</th>\n",
       "      <td>False</td>\n",
       "      <td>False</td>\n",
       "      <td>False</td>\n",
       "      <td>False</td>\n",
       "      <td>False</td>\n",
       "      <td>False</td>\n",
       "      <td>False</td>\n",
       "      <td>False</td>\n",
       "      <td>False</td>\n",
       "      <td>False</td>\n",
       "      <td>...</td>\n",
       "      <td>False</td>\n",
       "      <td>False</td>\n",
       "      <td>False</td>\n",
       "      <td>False</td>\n",
       "      <td>False</td>\n",
       "      <td>False</td>\n",
       "      <td>False</td>\n",
       "      <td>False</td>\n",
       "      <td>False</td>\n",
       "      <td>False</td>\n",
       "    </tr>\n",
       "    <tr>\n",
       "      <th>1</th>\n",
       "      <td>False</td>\n",
       "      <td>False</td>\n",
       "      <td>False</td>\n",
       "      <td>False</td>\n",
       "      <td>False</td>\n",
       "      <td>False</td>\n",
       "      <td>False</td>\n",
       "      <td>False</td>\n",
       "      <td>False</td>\n",
       "      <td>False</td>\n",
       "      <td>...</td>\n",
       "      <td>False</td>\n",
       "      <td>False</td>\n",
       "      <td>False</td>\n",
       "      <td>False</td>\n",
       "      <td>False</td>\n",
       "      <td>False</td>\n",
       "      <td>False</td>\n",
       "      <td>True</td>\n",
       "      <td>False</td>\n",
       "      <td>False</td>\n",
       "    </tr>\n",
       "    <tr>\n",
       "      <th>2</th>\n",
       "      <td>False</td>\n",
       "      <td>False</td>\n",
       "      <td>False</td>\n",
       "      <td>False</td>\n",
       "      <td>False</td>\n",
       "      <td>False</td>\n",
       "      <td>False</td>\n",
       "      <td>False</td>\n",
       "      <td>False</td>\n",
       "      <td>False</td>\n",
       "      <td>...</td>\n",
       "      <td>False</td>\n",
       "      <td>False</td>\n",
       "      <td>False</td>\n",
       "      <td>False</td>\n",
       "      <td>False</td>\n",
       "      <td>False</td>\n",
       "      <td>False</td>\n",
       "      <td>False</td>\n",
       "      <td>False</td>\n",
       "      <td>False</td>\n",
       "    </tr>\n",
       "    <tr>\n",
       "      <th>3</th>\n",
       "      <td>False</td>\n",
       "      <td>False</td>\n",
       "      <td>False</td>\n",
       "      <td>False</td>\n",
       "      <td>True</td>\n",
       "      <td>False</td>\n",
       "      <td>False</td>\n",
       "      <td>False</td>\n",
       "      <td>False</td>\n",
       "      <td>False</td>\n",
       "      <td>...</td>\n",
       "      <td>False</td>\n",
       "      <td>False</td>\n",
       "      <td>False</td>\n",
       "      <td>False</td>\n",
       "      <td>False</td>\n",
       "      <td>False</td>\n",
       "      <td>False</td>\n",
       "      <td>False</td>\n",
       "      <td>False</td>\n",
       "      <td>False</td>\n",
       "    </tr>\n",
       "    <tr>\n",
       "      <th>4</th>\n",
       "      <td>False</td>\n",
       "      <td>False</td>\n",
       "      <td>False</td>\n",
       "      <td>True</td>\n",
       "      <td>False</td>\n",
       "      <td>False</td>\n",
       "      <td>False</td>\n",
       "      <td>False</td>\n",
       "      <td>False</td>\n",
       "      <td>False</td>\n",
       "      <td>...</td>\n",
       "      <td>False</td>\n",
       "      <td>False</td>\n",
       "      <td>False</td>\n",
       "      <td>False</td>\n",
       "      <td>False</td>\n",
       "      <td>False</td>\n",
       "      <td>False</td>\n",
       "      <td>False</td>\n",
       "      <td>False</td>\n",
       "      <td>False</td>\n",
       "    </tr>\n",
       "    <tr>\n",
       "      <th>...</th>\n",
       "      <td>...</td>\n",
       "      <td>...</td>\n",
       "      <td>...</td>\n",
       "      <td>...</td>\n",
       "      <td>...</td>\n",
       "      <td>...</td>\n",
       "      <td>...</td>\n",
       "      <td>...</td>\n",
       "      <td>...</td>\n",
       "      <td>...</td>\n",
       "      <td>...</td>\n",
       "      <td>...</td>\n",
       "      <td>...</td>\n",
       "      <td>...</td>\n",
       "      <td>...</td>\n",
       "      <td>...</td>\n",
       "      <td>...</td>\n",
       "      <td>...</td>\n",
       "      <td>...</td>\n",
       "      <td>...</td>\n",
       "      <td>...</td>\n",
       "    </tr>\n",
       "    <tr>\n",
       "      <th>1477</th>\n",
       "      <td>False</td>\n",
       "      <td>False</td>\n",
       "      <td>False</td>\n",
       "      <td>False</td>\n",
       "      <td>False</td>\n",
       "      <td>False</td>\n",
       "      <td>False</td>\n",
       "      <td>False</td>\n",
       "      <td>False</td>\n",
       "      <td>False</td>\n",
       "      <td>...</td>\n",
       "      <td>False</td>\n",
       "      <td>False</td>\n",
       "      <td>False</td>\n",
       "      <td>False</td>\n",
       "      <td>False</td>\n",
       "      <td>False</td>\n",
       "      <td>False</td>\n",
       "      <td>False</td>\n",
       "      <td>False</td>\n",
       "      <td>False</td>\n",
       "    </tr>\n",
       "    <tr>\n",
       "      <th>1478</th>\n",
       "      <td>False</td>\n",
       "      <td>False</td>\n",
       "      <td>False</td>\n",
       "      <td>False</td>\n",
       "      <td>False</td>\n",
       "      <td>False</td>\n",
       "      <td>False</td>\n",
       "      <td>False</td>\n",
       "      <td>False</td>\n",
       "      <td>False</td>\n",
       "      <td>...</td>\n",
       "      <td>False</td>\n",
       "      <td>True</td>\n",
       "      <td>False</td>\n",
       "      <td>False</td>\n",
       "      <td>False</td>\n",
       "      <td>False</td>\n",
       "      <td>False</td>\n",
       "      <td>False</td>\n",
       "      <td>False</td>\n",
       "      <td>False</td>\n",
       "    </tr>\n",
       "    <tr>\n",
       "      <th>1479</th>\n",
       "      <td>False</td>\n",
       "      <td>False</td>\n",
       "      <td>False</td>\n",
       "      <td>False</td>\n",
       "      <td>False</td>\n",
       "      <td>False</td>\n",
       "      <td>False</td>\n",
       "      <td>False</td>\n",
       "      <td>False</td>\n",
       "      <td>False</td>\n",
       "      <td>...</td>\n",
       "      <td>False</td>\n",
       "      <td>False</td>\n",
       "      <td>False</td>\n",
       "      <td>False</td>\n",
       "      <td>False</td>\n",
       "      <td>False</td>\n",
       "      <td>False</td>\n",
       "      <td>False</td>\n",
       "      <td>False</td>\n",
       "      <td>False</td>\n",
       "    </tr>\n",
       "    <tr>\n",
       "      <th>1480</th>\n",
       "      <td>False</td>\n",
       "      <td>False</td>\n",
       "      <td>False</td>\n",
       "      <td>False</td>\n",
       "      <td>False</td>\n",
       "      <td>False</td>\n",
       "      <td>False</td>\n",
       "      <td>False</td>\n",
       "      <td>False</td>\n",
       "      <td>False</td>\n",
       "      <td>...</td>\n",
       "      <td>False</td>\n",
       "      <td>True</td>\n",
       "      <td>False</td>\n",
       "      <td>False</td>\n",
       "      <td>False</td>\n",
       "      <td>False</td>\n",
       "      <td>False</td>\n",
       "      <td>False</td>\n",
       "      <td>False</td>\n",
       "      <td>False</td>\n",
       "    </tr>\n",
       "    <tr>\n",
       "      <th>1481</th>\n",
       "      <td>False</td>\n",
       "      <td>False</td>\n",
       "      <td>False</td>\n",
       "      <td>True</td>\n",
       "      <td>False</td>\n",
       "      <td>False</td>\n",
       "      <td>False</td>\n",
       "      <td>False</td>\n",
       "      <td>False</td>\n",
       "      <td>False</td>\n",
       "      <td>...</td>\n",
       "      <td>False</td>\n",
       "      <td>False</td>\n",
       "      <td>False</td>\n",
       "      <td>False</td>\n",
       "      <td>False</td>\n",
       "      <td>False</td>\n",
       "      <td>False</td>\n",
       "      <td>False</td>\n",
       "      <td>False</td>\n",
       "      <td>False</td>\n",
       "    </tr>\n",
       "  </tbody>\n",
       "</table>\n",
       "<p>1376 rows × 32 columns</p>\n",
       "</div>"
      ],
      "text/plain": [
       "      Addiction  Alzheimer's  Anger Management  Anxiety  Behavioral Change  \\\n",
       "0         False        False             False    False              False   \n",
       "1         False        False             False    False              False   \n",
       "2         False        False             False    False              False   \n",
       "3         False        False             False    False               True   \n",
       "4         False        False             False     True              False   \n",
       "...         ...          ...               ...      ...                ...   \n",
       "1477      False        False             False    False              False   \n",
       "1478      False        False             False    False              False   \n",
       "1479      False        False             False    False              False   \n",
       "1480      False        False             False    False              False   \n",
       "1481      False        False             False     True              False   \n",
       "\n",
       "      Career Counseling  Children & Adolescents  Counseling Fundamentals   \\\n",
       "0                 False                   False                     False   \n",
       "1                 False                   False                     False   \n",
       "2                 False                   False                     False   \n",
       "3                 False                   False                     False   \n",
       "4                 False                   False                     False   \n",
       "...                 ...                     ...                       ...   \n",
       "1477              False                   False                     False   \n",
       "1478              False                   False                     False   \n",
       "1479              False                   False                     False   \n",
       "1480              False                   False                     False   \n",
       "1481              False                   False                     False   \n",
       "\n",
       "      Depression  Diagnosis  ...  Relationship Dissolution   Relationships  \\\n",
       "0          False      False  ...                      False          False   \n",
       "1          False      False  ...                      False          False   \n",
       "2          False      False  ...                      False          False   \n",
       "3          False      False  ...                      False          False   \n",
       "4          False      False  ...                      False          False   \n",
       "...          ...        ...  ...                        ...            ...   \n",
       "1477       False      False  ...                      False          False   \n",
       "1478       False      False  ...                      False           True   \n",
       "1479       False      False  ...                      False          False   \n",
       "1480       False      False  ...                      False           True   \n",
       "1481       False      False  ...                      False          False   \n",
       "\n",
       "      Self-esteem  Sleep Improvement  Social Relationships  Spirituality  \\\n",
       "0           False              False                 False         False   \n",
       "1           False              False                 False         False   \n",
       "2           False              False                 False         False   \n",
       "3           False              False                 False         False   \n",
       "4           False              False                 False         False   \n",
       "...           ...                ...                   ...           ...   \n",
       "1477        False              False                 False         False   \n",
       "1478        False              False                 False         False   \n",
       "1479        False              False                 False         False   \n",
       "1480        False              False                 False         False   \n",
       "1481        False              False                 False         False   \n",
       "\n",
       "      Stress  Substance Abuse  Trauma  Workplace Relationships  \n",
       "0      False            False   False                    False  \n",
       "1      False             True   False                    False  \n",
       "2      False            False   False                    False  \n",
       "3      False            False   False                    False  \n",
       "4      False            False   False                    False  \n",
       "...      ...              ...     ...                      ...  \n",
       "1477   False            False   False                    False  \n",
       "1478   False            False   False                    False  \n",
       "1479   False            False   False                    False  \n",
       "1480   False            False   False                    False  \n",
       "1481   False            False   False                    False  \n",
       "\n",
       "[1376 rows x 32 columns]"
      ]
     },
     "execution_count": 19,
     "metadata": {},
     "output_type": "execute_result"
    }
   ],
   "source": [
    "targetdf = pd.get_dummies(counseldf['topics'])\n",
    "targetdf"
   ]
  },
  {
   "cell_type": "markdown",
   "metadata": {
    "id": "hi7Dgrrqzxeh"
   },
   "source": [
    "Now, finally it is time to apply natural language processing techniques to each of the individual text samples.\n",
    "\n",
    "First, we define a pre-process function."
   ]
  },
  {
   "cell_type": "code",
   "execution_count": 20,
   "metadata": {
    "colab": {
     "base_uri": "https://localhost:8080/"
    },
    "id": "2vPrvP4Tzxei",
    "outputId": "04fa6f27-9f89-4cff-d412-e2df57c317d6"
   },
   "outputs": [
    {
     "name": "stderr",
     "output_type": "stream",
     "text": [
      "[nltk_data] Downloading package stopwords to\n",
      "[nltk_data]     C:\\Users\\amitu\\AppData\\Roaming\\nltk_data...\n",
      "[nltk_data]   Package stopwords is already up-to-date!\n",
      "[nltk_data] Downloading package punkt to\n",
      "[nltk_data]     C:\\Users\\amitu\\AppData\\Roaming\\nltk_data...\n",
      "[nltk_data]   Package punkt is already up-to-date!\n",
      "[nltk_data] Downloading package wordnet to\n",
      "[nltk_data]     C:\\Users\\amitu\\AppData\\Roaming\\nltk_data...\n",
      "[nltk_data]   Package wordnet is already up-to-date!\n"
     ]
    }
   ],
   "source": [
    "#Preprocess function\n",
    "\n",
    "\n",
    "import nltk, re\n",
    "nltk.download('stopwords')\n",
    "nltk.download('punkt')\n",
    "nltk.download('wordnet')\n",
    "from nltk.corpus import wordnet\n",
    "from nltk.corpus import stopwords\n",
    "from nltk.tokenize import word_tokenize\n",
    "from nltk.stem import WordNetLemmatizer\n",
    "from collections import Counter\n",
    "\n",
    "stop_words = stopwords.words('english')\n",
    "normalizer = WordNetLemmatizer()\n",
    "\n",
    "def get_part_of_speech(word):\n",
    "    probable_part_of_speech = wordnet.synsets(word)\n",
    "    pos_counts = Counter()\n",
    "    pos_counts[\"n\"] = len(  [ item for item in probable_part_of_speech if item.pos()==\"n\"]  )\n",
    "    pos_counts[\"v\"] = len(  [ item for item in probable_part_of_speech if item.pos()==\"v\"]  )\n",
    "    pos_counts[\"a\"] = len(  [ item for item in probable_part_of_speech if item.pos()==\"a\"]  )\n",
    "    pos_counts[\"r\"] = len(  [ item for item in probable_part_of_speech if item.pos()==\"r\"]  )\n",
    "    most_likely_part_of_speech = pos_counts.most_common(1)[0][0]\n",
    "    return most_likely_part_of_speech\n",
    "\n",
    "def preprocess_text(text):\n",
    "    cleaned = re.sub(r'\\W+', ' ', text).lower()\n",
    "    tokenized = word_tokenize(cleaned)\n",
    "    normalized = [normalizer.lemmatize(token, get_part_of_speech(token)) for token in tokenized]\n",
    "    return normalized"
   ]
  },
  {
   "cell_type": "code",
   "execution_count": 21,
   "metadata": {
    "colab": {
     "base_uri": "https://localhost:8080/",
     "height": 70
    },
    "id": "5FNs8dxIzxej",
    "outputId": "e39ac253-e948-4ddb-c21f-61687ae49f65"
   },
   "outputs": [
    {
     "data": {
      "text/plain": [
       "'I have a lot of issues going on right now. First of all, I have a lot of trouble sleeping at times, while other nights I sleep too much and still feel quite tired. I’m also noticing increased irritability and experiencing anxiety attacks that last for hours. Is there something wrong with me and if so what should I do?'"
      ]
     },
     "execution_count": 21,
     "metadata": {},
     "output_type": "execute_result"
    }
   ],
   "source": [
    "counseldf['questionText'][13]"
   ]
  },
  {
   "cell_type": "code",
   "execution_count": 22,
   "metadata": {
    "colab": {
     "base_uri": "https://localhost:8080/"
    },
    "id": "MpIoNDaNzxek",
    "outputId": "3a9b140c-a42c-4391-92df-e2fa60b5c979"
   },
   "outputs": [
    {
     "name": "stdout",
     "output_type": "stream",
     "text": [
      "i have a lot of issues going on right now first of all i have a lot of trouble sleeping at times while other nights i sleep too much and still feel quite tired i m also noticing increased irritability and experiencing anxiety attacks that last for hours is there something wrong with me and if so what should i do \n"
     ]
    }
   ],
   "source": [
    "text = counseldf['questionText'][13]\n",
    "cleaned = re.sub(r'\\W+', ' ', text).lower()\n",
    "print(cleaned)"
   ]
  },
  {
   "cell_type": "code",
   "execution_count": 23,
   "metadata": {
    "colab": {
     "base_uri": "https://localhost:8080/"
    },
    "id": "NHmEwSp2zxel",
    "outputId": "f2d07cae-62a8-4eb5-fa29-b2d0248a95dc"
   },
   "outputs": [
    {
     "name": "stdout",
     "output_type": "stream",
     "text": [
      "['i', 'have', 'a', 'lot', 'of', 'issues', 'going', 'on', 'right', 'now', 'first', 'of', 'all', 'i', 'have', 'a', 'lot', 'of', 'trouble', 'sleeping', 'at', 'times', 'while', 'other', 'nights', 'i', 'sleep', 'too', 'much', 'and', 'still', 'feel', 'quite', 'tired', 'i', 'm', 'also', 'noticing', 'increased', 'irritability', 'and', 'experiencing', 'anxiety', 'attacks', 'that', 'last', 'for', 'hours', 'is', 'there', 'something', 'wrong', 'with', 'me', 'and', 'if', 'so', 'what', 'should', 'i', 'do']\n"
     ]
    }
   ],
   "source": [
    "tokenized = word_tokenize(cleaned)\n",
    "print(tokenized)"
   ]
  },
  {
   "cell_type": "code",
   "execution_count": 24,
   "metadata": {
    "colab": {
     "base_uri": "https://localhost:8080/"
    },
    "id": "aarVu9NPzxel",
    "outputId": "4f18ea57-ffbc-407b-b1bd-8733f6bfd931"
   },
   "outputs": [
    {
     "name": "stdout",
     "output_type": "stream",
     "text": [
      "['i', 'have', 'a', 'lot', 'of', 'issue', 'go', 'on', 'right', 'now', 'first', 'of', 'all', 'i', 'have', 'a', 'lot', 'of', 'trouble', 'sleeping', 'at', 'time', 'while', 'other', 'night', 'i', 'sleep', 'too', 'much', 'and', 'still', 'feel', 'quite', 'tire', 'i', 'm', 'also', 'notice', 'increase', 'irritability', 'and', 'experience', 'anxiety', 'attack', 'that', 'last', 'for', 'hour', 'be', 'there', 'something', 'wrong', 'with', 'me', 'and', 'if', 'so', 'what', 'should', 'i', 'do']\n"
     ]
    }
   ],
   "source": [
    "normalized = [normalizer.lemmatize(token, get_part_of_speech(token)) for token in tokenized]\n",
    "print(normalized)"
   ]
  },
  {
   "cell_type": "code",
   "execution_count": 25,
   "metadata": {
    "id": "NsrPM8Kzzxem"
   },
   "outputs": [],
   "source": [
    "processed_questionText = counseldf['questionText'].apply(lambda x: preprocess_text(x))\n"
   ]
  },
  {
   "cell_type": "code",
   "execution_count": 26,
   "metadata": {
    "id": "ZDnvt_o_zxem"
   },
   "outputs": [],
   "source": [
    "stop_words = set(stopwords.words('english'))\n",
    "\n",
    "questionText_nostops = []\n",
    "for title in processed_questionText:\n",
    "    text_no_stops = [word for word in title if word not in stop_words]\n",
    "    questionText_nostops.append(text_no_stops)"
   ]
  },
  {
   "cell_type": "code",
   "execution_count": 27,
   "metadata": {
    "colab": {
     "base_uri": "https://localhost:8080/"
    },
    "id": "ANlTe915zxen",
    "outputId": "c933bd7d-1a0b-4141-ff24-49ca09f060f4"
   },
   "outputs": [
    {
     "name": "stdout",
     "output_type": "stream",
     "text": [
      "['lot', 'issue', 'go', 'right', 'first', 'lot', 'trouble', 'sleeping', 'time', 'night', 'sleep', 'much', 'still', 'feel', 'quite', 'tire', 'also', 'notice', 'increase', 'irritability', 'experience', 'anxiety', 'attack', 'last', 'hour', 'something', 'wrong']\n"
     ]
    }
   ],
   "source": [
    "print(questionText_nostops[13])"
   ]
  },
  {
   "cell_type": "code",
   "execution_count": 28,
   "metadata": {
    "colab": {
     "base_uri": "https://localhost:8080/"
    },
    "id": "4jI8VOCmzxeo",
    "outputId": "178acf8f-264d-4907-ca10-2b5d0e1599b5"
   },
   "outputs": [
    {
     "name": "stdout",
     "output_type": "stream",
     "text": [
      "['lot', 'issue', 'go', 'right', 'first', 'lot', 'trouble', 'sleeping', 'time', 'night', 'sleep', 'much', 'still', 'feel', 'quite', 'tire', 'also', 'notice', 'increase', 'irritability', 'experience', 'anxiety', 'attack', 'last', 'hour', 'something', 'wrong']\n"
     ]
    }
   ],
   "source": [
    "print(questionText_nostops[13])"
   ]
  },
  {
   "cell_type": "code",
   "execution_count": 29,
   "metadata": {
    "colab": {
     "base_uri": "https://localhost:8080/",
     "height": 35
    },
    "id": "RW23HGDjzxep",
    "outputId": "3fda8cef-f1ab-46f5-8459-af601b0eea1e"
   },
   "outputs": [
    {
     "name": "stdout",
     "output_type": "stream",
     "text": [
      "WARNING:tensorflow:From C:\\Users\\amitu\\AppData\\Local\\Programs\\Python\\Python311\\Lib\\site-packages\\keras\\src\\losses.py:2976: The name tf.losses.sparse_softmax_cross_entropy is deprecated. Please use tf.compat.v1.losses.sparse_softmax_cross_entropy instead.\n",
      "\n"
     ]
    },
    {
     "data": {
      "text/plain": [
       "'2.15.0'"
      ]
     },
     "execution_count": 29,
     "metadata": {},
     "output_type": "execute_result"
    }
   ],
   "source": [
    "import tensorflow as tf\n",
    "from tensorflow.keras import preprocessing\n",
    "\n",
    "tf.random.set_seed(4)\n",
    "tf.__version__"
   ]
  },
  {
   "cell_type": "code",
   "execution_count": 30,
   "metadata": {
    "colab": {
     "base_uri": "https://localhost:8080/"
    },
    "id": "5uAOyE_hzxep",
    "outputId": "2177fbad-634a-4846-b10a-769e31d7e04e"
   },
   "outputs": [
    {
     "name": "stdout",
     "output_type": "stream",
     "text": [
      "Sample tokenized: [68, 101, 1760, 971, 49, 858, 972, 684, 68, 52, 477, 101, 1761, 101, 52, 477, 68, 859, 165, 1386, 150, 9, 216, 68, 18, 41, 166, 971, 1762, 353, 626, 971]\n",
      "==================================================================================================================\n",
      "\n",
      "Questions max length is 220 words\n",
      "==================================================================================================================\n",
      "\n",
      "Input data shape -> (1376, 220)\n",
      "\n",
      "Input data sample->\n",
      " [  68  101 1760  971   49  858  972  684   68   52  477  101 1761  101\n",
      "   52  477   68  859  165 1386  150    9  216   68   18   41  166  971\n",
      " 1762  353  626  971    0    0    0    0    0    0    0    0    0    0\n",
      "    0    0    0    0    0    0    0    0    0    0    0    0    0    0\n",
      "    0    0    0    0    0    0    0    0    0    0    0    0    0    0\n",
      "    0    0    0    0    0    0    0    0    0    0    0    0    0    0\n",
      "    0    0    0    0    0    0    0    0    0    0    0    0    0    0\n",
      "    0    0    0    0    0    0    0    0    0    0    0    0    0    0\n",
      "    0    0    0    0    0    0    0    0    0    0    0    0    0    0\n",
      "    0    0    0    0    0    0    0    0    0    0    0    0    0    0\n",
      "    0    0    0    0    0    0    0    0    0    0    0    0    0    0\n",
      "    0    0    0    0    0    0    0    0    0    0    0    0    0    0\n",
      "    0    0    0    0    0    0    0    0    0    0    0    0    0    0\n",
      "    0    0    0    0    0    0    0    0    0    0    0    0    0    0\n",
      "    0    0    0    0    0    0    0    0    0    0    0    0    0    0\n",
      "    0    0    0    0    0    0    0    0    0    0]\n",
      "==================================================================================================================\n",
      "\n",
      "Number of Question tokens = 2417\n",
      "\n",
      "Dictionary: {'feel': 1, 'get': 2, 'want': 3, 'like': 4, 'know': 5, 'time': 6, 'go': 7, 'year': 8, 'think': 9, 'say': 10, 'make': 11, 'tell': 12, 'relationship': 13, 'love': 14, 'never': 15, 'really': 16, 'friend': 17, 'talk': 18, 'thing': 19, 'always': 20, 'even': 21, 'work': 22, 'help': 23, 'life': 24, 'boyfriend': 25, 'try': 26, 'find': 27, 'still': 28, 'see': 29, 'one': 30, 'day': 31, 'people': 32, 'need': 33, 'start': 34, 'sex': 35, 'anxiety': 36, 'take': 37, 'family': 38, 'lot': 39, 'month': 40, 'back': 41, 'child': 42, 'much': 43, 'every': 44, 'husband': 45, 'anything': 46, 'stop': 47, 'together': 48, 'past': 49, 'live': 50, 'something': 51, 'would': 52, 'someone': 53, 'leave': 54, 'move': 55, 'problem': 56, 'sometimes': 57, 'two': 58, 'bad': 59, 'school': 60, 'ago': 61, 'lose': 62, 'parent': 63, 'ask': 64, 'also': 65, 'everything': 66, 'girl': 67, 'wife': 68, 'come': 69, 'well': 70, 'keep': 71, 'issue': 72, 'seem': 73, 'break': 74, 'depression': 75, 'cheat': 76, 'dad': 77, 'use': 78, 'happen': 79, 'way': 80, 'wrong': 81, 'stress': 82, 'give': 83, 'away': 84, 'u': 85, 'marry': 86, 'last': 87, 'ex': 88, 'since': 89, 'call': 90, 'guy': 91, 'hurt': 92, 'right': 93, 'normal': 94, 'anymore': 95, 'recently': 96, 'good': 97, 'drink': 98, 'mom': 99, 'night': 100, 'mother': 101, 'end': 102, 'stay': 103, 'date': 104, 'girlfriend': 105, 'home': 106, 'trust': 107, 'woman': 108, 'lie': 109, 'first': 110, 'job': 111, 'cry': 112, 'let': 113, 'deal': 114, 'long': 115, 'believe': 116, 'else': 117, 'week': 118, 'care': 119, 'counseling': 120, 'depress': 121, 'late': 122, 'alone': 123, 'around': 124, 'change': 125, 'happy': 126, 'fight': 127, 'could': 128, 'thought': 129, 'person': 130, 'daughter': 131, 'nothing': 132, 'ever': 133, 'kid': 134, 'afraid': 135, 'angry': 136, 'decide': 137, 'listen': 138, 'without': 139, '20': 140, 'hard': 141, 'meet': 142, 'young': 143, 'couple': 144, 'almost': 145, 'though': 146, 'three': 147, 'felt': 148, 'enough': 149, 'lately': 150, 'win': 151, 'disorder': 152, 'therapy': 153, 'become': 154, 'self': 155, 'men': 156, 'everyone': 157, 'great': 158, 'worry': 159, 'scar': 160, 'therapist': 161, 'attack': 162, 'house': 163, 'understand': 164, 'however': 165, 'little': 166, 'act': 167, 'far': 168, 'new': 169, 'look': 170, 'upset': 171, 'anger': 172, 'sad': 173, 'man': 174, 'mean': 175, 'anyone': 176, 'constantly': 177, 'session': 178, 'mind': 179, 'put': 180, 'abuse': 181, 'forgive': 182, 'best': 183, 'another': 184, 'handle': 185, 'okay': 186, 'teenager': 187, 'voice': 188, 'sleep': 189, 'situation': 190, 'marriage': 191, 'son': 192, 'continue': 193, 'nervous': 194, 'control': 195, '3': 196, 'fiancé': 197, 'five': 198, 'able': 199, 'old': 200, 'phone': 201, 'fear': 202, 'experience': 203, 'counselor': 204, 'many': 205, 'walk': 206, 'decision': 207, 'sure': 208, 'eat': 209, 'reason': 210, 'hate': 211, 'father': 212, 'sexual': 213, 'early': 214, 'four': 215, 'cause': 216, 'miss': 217, 'diagnose': 218, 'head': 219, 'often': 220, 'close': 221, 'divorce': 222, 'spend': 223, 'brother': 224, 'place': 225, 'big': 226, 'plan': 227, 'actually': 228, 'sit': 229, 'nightmare': 230, 'along': 231, 'remember': 232, 'turn': 233, 'guilty': 234, 'word': 235, 'crazy': 236, 'partner': 237, 'tire': 238, 'drive': 239, 'hear': 240, 'personality': 241, 'room': 242, 'heart': 243, 'baby': 244, 'process': 245, 'whenever': 246, 'doctor': 247, 'frustrate': 248, 'others': 249, '30': 250, 'fix': 251, 'learn': 252, 'sister': 253, 'money': 254, 'interest': 255, 'message': 256, 'high': 257, 'client': 258, 'emotion': 259, 'either': 260, 'panic': 261, 'step': 262, 'currently': 263, 'forever': 264, 'gay': 265, 'face': 266, 'alcohol': 267, 'harm': 268, 'emotional': 269, 'addiction': 270, 'hour': 271, 'answer': 272, 'different': 273, 'physically': 274, 'apart': 275, 'kind': 276, 'dog': 277, 'already': 278, 'hit': 279, 'embarrass': 280, 'sleeping': 281, 'order': 282, 'forget': 283, 'boy': 284, 'mad': 285, 'car': 286, 'pain': 287, 'abusive': 288, 'question': 289, 'difficult': 290, 'female': 291, 'attention': 292, 'due': 293, 'show': 294, 'accept': 295, 'medication': 296, 'adult': 297, 'social': 298, 'whole': 299, 'less': 300, 'age': 301, 'terrible': 302, 'virgin': 303, 'everytime': 304, 'shaky': 305, 'emotionally': 306, 'run': 307, 'drug': 308, 'might': 309, 'fine': 310, 'several': 311, 'text': 312, 'fact': 313, 'random': 314, 'lack': 315, 'half': 316, 'matter': 317, 'hopeless': 318, 'saw': 319, 'confuse': 320, 'pretty': 321, 'split': 322, 'stupid': 323, 'push': 324, 'smoking': 325, 'trouble': 326, 'violent': 327, 'horrible': 328, 'instead': 329, 'negative': 330, 'respect': 331, 'enjoy': 332, 'terrify': 333, 'play': 334, 'struggle': 335, 'serious': 336, 'event': 337, 'childhood': 338, '5': 339, 'next': 340, 'throw': 341, 'honestly': 342, 'refuse': 343, 'tear': 344, 'kiss': 345, 'overwhelm': 346, 'attract': 347, 'mess': 348, 'pay': 349, 'weekend': 350, 'seven': 351, 'constant': 352, 'lead': 353, 'sick': 354, 'name': 355, 'straight': 356, 'pregnant': 357, 'kill': 358, '2': 359, 'argument': 360, 'point': 361, 'hang': 362, 'current': 363, 'figure': 364, 'especially': 365, 'die': 366, 'single': 367, 'quit': 368, 'wake': 369, 'low': 370, 'pass': 371, 'cope': 372, 'wall': 373, 'possible': 374, 'paranoid': 375, 'watch': 376, 'approach': 377, 'separate': 378, 'catch': 379, 'admit': 380, 'read': 381, 'agree': 382, 'class': 383, 'bed': 384, 'graduate': 385, 'afford': 386, 'freak': 387, 'terminate': 388, 'completely': 389, 'argue': 390, 'speak': 391, 'dream': 392, 'send': 393, 'twice': 394, 'small': 395, 'advice': 396, 'male': 397, 'comment': 398, 'rap': 399, 'suffer': 400, 'wear': 401, 'touch': 402, 'insecurity': 403, 'real': 404, 'pick': 405, 'distance': 406, 'yet': 407, 'create': 408, 'kick': 409, 'today': 410, 'cut': 411, 'hide': 412, 'grow': 413, 'honest': 414, 'worth': 415, 'fell': 416, 'begin': 417, 'support': 418, 'student': 419, 'promise': 420, 'addict': 421, 'bother': 422, 'yesterday': 423, 'mental': 424, 'body': 425, 'accuse': 426, 'forward': 427, 'please': 428, 'state': 429, 'soon': 430, 'contact': 431, 'second': 432, 'town': 433, 'usually': 434, 'overcome': 435, 'stuff': 436, 'present': 437, 'mid': 438, 'write': 439, 'involve': 440, 'binge': 441, 'suicidal': 442, 'wait': 443, 'daily': 444, 'scream': 445, 'gender': 446, 'weather': 447, 'extremely': 448, 'medicine': 449, 'behavior': 450, 'notice': 451, 'nowhere': 452, 'treat': 453, 'mine': 454, 'part': 455, 'truly': 456, 'communicate': 457, 'rather': 458, 'erection': 459, 'desire': 460, 'mistake': 461, 'college': 462, 'wonder': 463, 'fake': 464, 'idea': 465, 'bipolar': 466, 'summer': 467, 'travel': 468, 'yell': 469, 'true': 470, 'fault': 471, 'realize': 472, 'minute': 473, 'bring': 474, 'video': 475, 'personal': 476, 'complain': 477, 'physical': 478, 'calm': 479, 'unable': 480, 'quite': 481, 'drop': 482, '1': 483, 'christian': 484, 'explain': 485, 'confront': 486, 'disappoint': 487, 'ruin': 488, '4': 489, 'health': 490, 'stick': 491, 'affect': 492, 'hospital': 493, 'blame': 494, 'multiple': 495, 'express': 496, 'god': 497, 'suppose': 498, '0': 499, 'type': 500, 'follow': 501, 'awful': 502, 'road': 503, 'mg': 504, 'require': 505, 'friendship': 506, 'mouth': 507, 'effort': 508, 'comfortable': 509, 'visit': 510, 'maybe': 511, '11': 512, 'healthy': 513, 'death': 514, 'open': 515, 'whether': 516, 'nice': 517, 'hurtful': 518, 'side': 519, 'obsess': 520, 'raise': 521, 'hearing': 522, 'regard': 523, 'worker': 524, 'confident': 525, 'line': 526, 'tough': 527, 'rough': 528, 'country': 529, 'future': 530, 'deep': 531, 'within': 532, 'glad': 533, 'flashback': 534, 'rid': 535, 'race': 536, 'fall': 537, 'develop': 538, 'hand': 539, '15': 540, 'beautiful': 541, 'worthless': 542, 'previous': 543, 'hope': 544, 'effect': 545, 'result': 546, 'connect': 547, 'avoid': 548, 'heaven': 549, 'wonderful': 550, 'six': 551, 'wish': 552, 'grade': 553, 'basically': 554, 'concern': 555, 'distant': 556, 'breakup': 557, 'case': 558, 'maintain': 559, 'couch': 560, 'expect': 561, 'empty': 562, 'shake': 563, 'courage': 564, 'ignore': 565, 'porn': 566, 'main': 567, 'prescription': 568, 'suicide': 569, 'sibling': 570, 'habit': 571, 'shut': 572, 'apologize': 573, 'reach': 574, 'short': 575, 'attempt': 576, 'mentally': 577, 'important': 578, 'focus': 579, 'sudden': 580, 'mood': 581, 'pressure': 582, '40': 583, 'cousin': 584, 'communication': 585, 'abandon': 586, 'towards': 587, 'resolve': 588, 'bully': 589, 'attractive': 590, 'morning': 591, 'conversation': 592, 'everyday': 593, 'offer': 594, 'information': 595, 'naked': 596, 'general': 597, 'nine': 598, 'whatever': 599, 'marijuana': 600, 'extreme': 601, 'must': 602, 'may': 603, 'huge': 604, 'rarely': 605, 'teenage': 606, 'treatment': 607, 'force': 608, 'overreact': 609, 'behind': 610, 'game': 611, 'allow': 612, 'tend': 613, 'except': 614, 'count': 615, 'pornography': 616, 'badly': 617, 'posttraumatic': 618, 'facebook': 619, 'birth': 620, 'adopt': 621, 'enter': 622, 'target': 623, 'winter': 624, 'brief': 625, 'major': 626, 'secret': 627, 'reject': 628, 'intimacy': 629, 'hop': 630, 'suggestion': 631, 'business': 632, 'jealous': 633, 'claim': 634, 'movie': 635, 'although': 636, 'sociopath': 637, 'cop': 638, 'front': 639, 'safety': 640, 'unfortunately': 641, 'insecure': 642, 'character': 643, 'positive': 644, 'busy': 645, 'esteem': 646, 'space': 647, 'cycle': 648, 'sweet': 649, 'hold': 650, 'stand': 651, 'none': 652, 'teen': 653, 'connection': 654, 'sexually': 655, 'check': 656, 'hotel': 657, 'bisexual': 658, 'hat': 659, 'shock': 660, 'action': 661, 'toddler': 662, 'pee': 663, '50': 664, 'university': 665, 'finally': 666, 'neither': 667, 'ready': 668, 'public': 669, 'easy': 670, 'group': 671, 'insurance': 672, 'military': 673, 'coworker': 674, 'us': 675, 'number': 676, 'dose': 677, 'peer': 678, 'drift': 679, 'coexist': 680, 'invest': 681, 'uncared': 682, 'reconnected': 683, 'example': 684, 'annoying': 685, 'stomach': 686, 'easily': 687, 'breathe': 688, '8': 689, 'improve': 690, 'exercise': 691, 'sixty': 692, 'seriously': 693, 'pansexual': 694, 'judge': 695, 'finish': 696, 'texted': 697, 'picture': 698, 'strong': 699, 'sound': 700, 'disgust': 701, 'party': 702, 'etc': 703, 'discus': 704, 'imagine': 705, 'surround': 706, 'lonely': 707, 'online': 708, 'weight': 709, '14': 710, 'diminish': 711, 'trigger': 712, 'separation': 713, 'full': 714, 'twenty': 715, 'chance': 716, 'fail': 717, 'affair': 718, 'co': 719, 'fully': 720, 'literally': 721, 'memory': 722, 'cuss': 723, 'course': 724, 'medium': 725, '10': 726, 'swear': 727, 'form': 728, 'perfect': 729, '25': 730, 'stepdaughter': 731, 'reply': 732, 'amaze': 733, 'crush': 734, 'christmas': 735, 'moment': 736, 'weed': 737, 'excellent': 738, 'mostly': 739, 'influence': 740, 'team': 741, 'miserable': 742, 'fiancée': 743, 'rate': 744, 'guilt': 745, 'consider': 746, 'ptsd': 747, 'chest': 748, 'psychologist': 749, 'disrespectful': 750, 'obsessive': 751, 'transgender': 752, 'track': 753, 'ashamed': 754, 'degree': 755, 'gym': 756, '18': 757, 'uncomfortable': 758, 'slow': 759, 'program': 760, '12': 761, 'proper': 762, 'niece': 763, 'reminder': 764, 'roof': 765, 'rule': 766, 'anxious': 767, 'condition': 768, 'devastate': 769, 'hole': 770, 'compare': 771, 'accident': 772, 'base': 773, 'id': 774, 'card': 775, 'quickly': 776, 'clear': 777, 'choice': 778, 'severe': 779, 'boob': 780, 'unhappy': 781, 'ugly': 782, 'save': 783, 'tonight': 784, 'respond': 785, '100': 786, 'religious': 787, 'somehow': 788, 'world': 789, 'possibly': 790, 'food': 791, 'legal': 792, 'rest': 793, 'bit': 794, 'verbally': 795, 'affection': 796, 'hook': 797, 'sorry': 798, 'threaten': 799, 'unwanted': 800, 'toilet': 801, 'blood': 802, 'drama': 803, 'eye': 804, 'lust': 805, 'wine': 806, 'bear': 807, 'expression': 808, 'texting': 809, 'position': 810, 'ii': 811, 'funny': 812, 'partially': 813, 'basis': 814, 'inside': 815, 'virginity': 816, 'sport': 817, 'anybody': 818, 'add': 819, 'crave': 820, 'violence': 821, 'domestic': 822, 'offend': 823, 'afterwards': 824, 'compulsive': 825, 'sign': 826, 'aunt': 827, 'cancer': 828, 'forth': 829, 'favor': 830, 'beer': 831, 'fridge': 832, 'dead': 833, 'invite': 834, 'shame': 835, 'financial': 836, 'pill': 837, 'post': 838, 'color': 839, 'scary': 840, 'water': 841, 'instructor': 842, 'swimsuit': 843, 'top': 844, 'display': 845, 'dangerous': 846, 'finance': 847, 'daddy': 848, 'unfocused': 849, 'recovery': 850, 'pantyhose': 851, 'schizophrenia': 852, '00': 853, 'occur': 854, 'pawn': 855, 'dependent': 856, 'facilitate': 857, 'minor': 858, 'lazy': 859, 'secure': 860, 'manage': 861, 'asleep': 862, 'symptom': 863, 'custody': 864, 'visitation': 865, 'medical': 866, 'numerous': 867, 'period': 868, 'shortly': 869, 'original': 870, 'inappropriate': 871, 'exist': 872, 'selfish': 873, 'relative': 874, 'apartment': 875, 'regret': 876, 'company': 877, 'poor': 878, 'sense': 879, 'aware': 880, 'clean': 881, 'excite': 882, 'fast': 883, 'unsure': 884, 'role': 885, 'simply': 886, 'genuine': 887, 'belief': 888, 'lunch': 889, 'lock': 890, 'impact': 891, 'throughout': 892, 'convince': 893, 'block': 894, 'anti': 895, 'religion': 896, 'teach': 897, 'hell': 898, 'vehicle': 899, 'cat': 900, 'floor': 901, 'joke': 902, 'appointment': 903, 'least': 904, 'deserve': 905, 'rage': 906, 'household': 907, 'fill': 908, 'poop': 909, 'birthday': 910, 'research': 911, 'detail': 912, 'match': 913, 'laugh': 914, 'adolescent': 915, 'sober': 916, 'gift': 917, 'e': 918, 'elementary': 919, 'quiet': 920, 'trap': 921, 'function': 922, 'loud': 923, 'stranger': 924, 'unless': 925, 'truth': 926, 'oral': 927, 'dirty': 928, 'totally': 929, 'confess': 930, 'remain': 931, 'organization': 932, 'ten': 933, 'lash': 934, 'individual': 935, 'biological': 936, 'instagram': 937, 'transparent': 938, 'orgasmed': 939, 'ehh': 940, 'foreplay': 941, 'tickle': 942, 'pant': 943, 'hug': 944, 'urge': 945, 'uncle': 946, 'disappointment': 947, 'edge': 948, 'stressor': 949, 'middle': 950, 'survivor': 951, 'swallow': 952, 'intimate': 953, 'report': 954, 'resurface': 955, '17': 956, 'factor': 957, 'heel': 958, 'distract': 959, 'policy': 960, 'demean': 961, 'threesome': 962, 'complicate': 963, 'methamphetamine': 964, 'driveway': 965, 'responsibility': 966, 'mentalhealth': 967, 'facility': 968, 'background': 969, 'narrow': 970, 'disagreement': 971, 'difference': 972, 'injury': 973, 'anyway': 974, 'solve': 975, 'manner': 976, 'unacceptable': 977, 'lay': 978, 'reaction': 979, 'steal': 980, '7': 981, 'vacation': 982, 'wedding': 983, 'weird': 984, 'fetish': 985, 'false': 986, 'bos': 987, 'acknowledge': 988, 'professional': 989, 'confidence': 990, 'incident': 991, 'awfully': 992, 'hot': 993, 'sometime': 994, 'belittle': 995, 'include': 996, 'inconsiderate': 997, 'particular': 998, 'closure': 999, 'victim': 1000, 'schedule': 1001, 'obviously': 1002, 'complete': 1003, 'otherwise': 1004, 'transfer': 1005, 'upon': 1006, 'return': 1007, 'similar': 1008, '9': 1009, 'unfaithful': 1010, 'faithful': 1011, 'unsettle': 1012, 'comfort': 1013, 'book': 1014, 'nobody': 1015, 'bothersome': 1016, 'beg': 1017, 'shoot': 1018, 'serve': 1019, 'friday': 1020, 'emergency': 1021, 'financially': 1022, 'drain': 1023, 'episode': 1024, 'beside': 1025, 'sort': 1026, 'tv': 1027, 'challenge': 1028, 'pull': 1029, 'hair': 1030, 'law': 1031, 'psychiatric': 1032, 'sight': 1033, 'infant': 1034, 'human': 1035, 'accusation': 1036, 'burn': 1037, 'besides': 1038, 'parental': 1039, 'tension': 1040, 'despite': 1041, 'commit': 1042, 'suddenly': 1043, 'neglect': 1044, 'irritate': 1045, 'masturbate': 1046, 'smart': 1047, 'deny': 1048, 'demand': 1049, 'draw': 1050, 'fantasize': 1051, 'jealousy': 1052, 'likely': 1053, 'private': 1054, 'bright': 1055, 'gain': 1056, 'light': 1057, 'door': 1058, 'apology': 1059, 'store': 1060, 'file': 1061, 'suggest': 1062, 'strain': 1063, 'loathing': 1064, 'temptation': 1065, 'luckily': 1066, 'surprise': 1067, 'tall': 1068, 'socialize': 1069, 'thanksgiving': 1070, 'eight': 1071, 'level': 1072, 'value': 1073, 'excuse': 1074, 'term': 1075, 'worsen': 1076, 'explode': 1077, 'cheater': 1078, 'pretend': 1079, 'barely': 1080, 'tempt': 1081, 'remarry': 1082, 'animal': 1083, 'snap': 1084, 'ongoing': 1085, 'intercourse': 1086, 'internal': 1087, 'calorie': 1088, 'mechanism': 1089, 'intense': 1090, 'dwell': 1091, 'pride': 1092, 'sarcastic': 1093, 'normally': 1094, 'punishment': 1095, 'vivid': 1096, 'outcome': 1097, 'content': 1098, 'note': 1099, 'trauma': 1100, 'mirror': 1101, 'dysphoria': 1102, 'strategy': 1103, 'silly': 1104, 'fatigue': 1105, 'jumble': 1106, 'skip': 1107, 'beat': 1108, 'exactly': 1109, 'toe': 1110, 'deficit': 1111, 'protection': 1112, 'xanax': 1113, '5mg': 1114, 'perspective': 1115, 'accomplishment': 1116, 'clothe': 1117, 'coverage': 1118, 'hyper': 1119, 'history': 1120, 'shy': 1121, 'presentation': 1122, 'join': 1123, 'dont': 1124, 'st': 1125, 'scare': 1126, 'thearapist': 1127, 'available': 1128, 'autism': 1129, 'pedophile': 1130, 'logically': 1131, 'teacher': 1132, 'tech': 1133, 'overwork': 1134, 'underpay': 1135, 'contribution': 1136, 'demoralize': 1137, 'wreck': 1138, 'gravitate': 1139, 'toward': 1140, 'unavailable': 1141, 'dictate': 1142, 'beck': 1143, 'security': 1144, 'survive': 1145, 'monster': 1146, 'frighten': 1147, 'chronic': 1148, 'release': 1149, 'warn': 1150, 'increase': 1151, 'irritability': 1152, 'belong': 1153, 'pet': 1154, 'paper': 1155, 'certain': 1156, 'goodbye': 1157, 'propose': 1158, 'cook': 1159, 'somewhere': 1160, 'wallet': 1161, '2014': 1162, 'lend': 1163, 'narcissistic': 1164, 'sadly': 1165, 'ring': 1166, 'proposal': 1167, 'apply': 1168, 'strange': 1169, '6': 1170, 'swing': 1171, 'proof': 1172, 'employer': 1173, 'dinner': 1174, 'opinion': 1175, 'behave': 1176, 'service': 1177, 'highly': 1178, 'consume': 1179, 'member': 1180, 'confide': 1181, 'fat': 1182, 'helpless': 1183, 'stab': 1184, 'per': 1185, 'blow': 1186, 'unreasonable': 1187, 'lady': 1188, 'spiral': 1189, 'story': 1190, 'unhealthy': 1191, 'pleasure': 1192, 'sensitive': 1193, 'purpose': 1194, 'grandma': 1195, 'manic': 1196, 'verbal': 1197, 'lesson': 1198, 'rollercoaster': 1199, 'psychiatrist': 1200, 'cruel': 1201, 'homeless': 1202, 'manager': 1203, 'encourage': 1204, 'study': 1205, 'senior': 1206, 'set': 1207, 'rub': 1208, 'nearly': 1209, 'punch': 1210, 'inform': 1211, 'irrational': 1212, 'outgoing': 1213, 'shoulder': 1214, 'repeatedly': 1215, 'lingerie': 1216, 'seek': 1217, 'relate': 1218, 'quick': 1219, 'fulfil': 1220, 'nap': 1221, 'possibility': 1222, 'ideal': 1223, 'international': 1224, 'semester': 1225, 'unite': 1226, 'cultural': 1227, 'arrive': 1228, 'savior': 1229, 'special': 1230, 'appropriate': 1231, '13': 1232, 'dear': 1233, 'flirtation': 1234, 'progress': 1235, 'office': 1236, 'hugger': 1237, 'clearly': 1238, 'prefer': 1239, 'model': 1240, 'system': 1241, 'fathom': 1242, 'dread': 1243, 'dude': 1244, 'submissive': 1245, 'basketball': 1246, 'phrase': 1247, 'slowly': 1248, 'provide': 1249, 'worst': 1250, 'restroom': 1251, 'cover': 1252, 'illness': 1253, 'dispute': 1254, 'stutter': 1255, 'truck': 1256, 'driver': 1257, 'music': 1258, 'super': 1259, 'aspect': 1260, 'actual': 1261, 'site': 1262, 'resist': 1263, 'frequently': 1264, 'previously': 1265, 'properly': 1266, 'rude': 1267, 'absolutely': 1268, 'ton': 1269, 'lesbian': 1270, 'charge': 1271, 'felony': 1272, 'pander': 1273, 'admission': 1274, 'minimize': 1275, 'repent': 1276, 'opposite': 1277, 'defy': 1278, 'authoritative': 1279, 'entire': 1280, 'opportunity': 1281, 'third': 1282, 'stable': 1283, 'stage': 1284, 'probably': 1285, 'borderline': 1286, 'test': 1287, 'curse': 1288, 'rumor': 1289, 'graceful': 1290, 'insist': 1291, 'rehabilitation': 1292, 'brain': 1293, 'friendly': 1294, 'identity': 1295, 'eventually': 1296, 'happily': 1297, 'blend': 1298, 'wage': 1299, 'earner': 1300, 'sacrifice': 1301, 'core': 1302, 'resolution': 1303, 'limit': 1304, 'consumption': 1305, 'board': 1306, 'discover': 1307, 'vodka': 1308, 'snore': 1309, 'giveaway': 1310, 'slur': 1311, 'honesty': 1312, 'evil': 1313, 'football': 1314, 'player': 1315, 'indoor': 1316, 'league': 1317, 'prove': 1318, 'noise': 1319, 'grandson': 1320, 'internally': 1321, 'externally': 1322, 'unidentifiable': 1323, 'cage': 1324, 'loss': 1325, 'rape': 1326, 'fun': 1327, 'sexuality': 1328, 'bisexuality': 1329, 'dreaming': 1330, 'potential': 1331, 'wan': 1332, 'na': 1333, 'inexperienced': 1334, 'differently': 1335, 'stroke': 1336, 'participate': 1337, 'thereafter': 1338, 'overdose': 1339, 'penis': 1340, 'snit': 1341, 'silent': 1342, 'masturbation': 1343, 'star': 1344, 'motivation': 1345, 'heavy': 1346, 'awkward': 1347, 'popular': 1348, 'identify': 1349, 'variation': 1350, 'roughly': 1351, 'substance': 1352, 'skill': 1353, 'heterosexual': 1354, 'skirt': 1355, 'stock': 1356, 'fascination': 1357, 'kinky': 1358, 'vague': 1359, 'empathize': 1360, 'empathy': 1361, 'bra': 1362, 'skin': 1363, 'rent': 1364, 'suspicious': 1365, 'sweetheart': 1366, 'penny': 1367, 'imessage': 1368, 'snapchat': 1369, 'messy': 1370, 'crossdress': 1371, 'feminine': 1372, 'frequent': 1373, 'ego': 1374, 'bedroom': 1375, 'imposter': 1376, 'syndrome': 1377, 'account': 1378, 'phenomenal': 1379, 'publish': 1380, 'faculty': 1381, 'alike': 1382, 'fraud': 1383, 'paul': 1384, 'recluse': 1385, 'intensify': 1386, 'estimate': 1387, 'bankrupt': 1388, 'p': 1389, 'realization': 1390, 'missouri': 1391, 'reconnect': 1392, 'sicken': 1393, 'beyond': 1394, 'horror': 1395, 'pop': 1396, '2013': 1397, 'miscarriage': 1398, 'hardly': 1399, 'amount': 1400, 'former': 1401, 'apologetic': 1402, 'finger': 1403, 'successful': 1404, 'server': 1405, 'hundred': 1406, 'dollar': 1407, 'engage': 1408, 'cant': 1409, 'petty': 1410, 'anniversary': 1411, 'promiscuous': 1412, 'coworkers': 1413, 'statement': 1414, 'pair': 1415, 'doc': 1416, 'foot': 1417, 'hello': 1418, 'city': 1419, 'fuse': 1420, 'temperamental': 1421, 'coordinate': 1422, 'condescend': 1423, 'oblivious': 1424, 'openly': 1425, 'thoughtful': 1426, 'spatially': 1427, 'baker': 1428, 'gather': 1429, 'funeral': 1430, 'custom': 1431, 'status': 1432, 'horribly': 1433, 'register': 1434, 'offender': 1435, 'record': 1436, 'roommate': 1437, 'dump': 1438, 'skinny': 1439, 'libido': 1440, 'encounter': 1441, 'importance': 1442, 'spouse': 1443, 'reassurance': 1444, 'companion': 1445, 'priority': 1446, 'aversion': 1447, 'reconcile': 1448, 'linger': 1449, 'prevent': 1450, 'dessert': 1451, 'tone': 1452, 'jump': 1453, 'recur': 1454, 'blue': 1455, 'dismiss': 1456, 'mask': 1457, 'happiness': 1458, 'creative': 1459, 'passion': 1460, 'louisiana': 1461, 'doubt': 1462, 'dearly': 1463, 'holiday': 1464, 'loan': 1465, 'heavily': 1466, 'medicate': 1467, 'credit': 1468, 'owe': 1469, 'narcissist': 1470, 'spirit': 1471, 'pity': 1472, 'adhd': 1473, 'nut': 1474, 'extend': 1475, 'box': 1476, 'corner': 1477, 'perfectly': 1478, 'defend': 1479, 'deception': 1480, 'willingness': 1481, 'intimidate': 1482, 'silence': 1483, 'immigration': 1484, 'application': 1485, 'slap': 1486, 'supportive': 1487, 'guidance': 1488, 'intervene': 1489, 'wrongly': 1490, 'mommy': 1491, 'cold': 1492, 'lull': 1493, 'chair': 1494, 'diaper': 1495, 'pattern': 1496, 'recommend': 1497, 'phase': 1498, 'assume': 1499, 'erectile': 1500, 'dysfunction': 1501, 'viagra': 1502, 'cialis': 1503, 'discuss': 1504, 'frustration': 1505, 'cancel': 1506, 'smoke': 1507, 'negativity': 1508, 'adore': 1509, 'starve': 1510, 'sorority': 1511, 'patch': 1512, 'babysitter': 1513, 'escalate': 1514, 'gastric': 1515, 'sleeve': 1516, 'surgery': 1517, 'feedback': 1518, 'mail': 1519, 'appearance': 1520, 'facial': 1521, 'psychology': 1522, 'depressive': 1523, 'list': 1524, 'prohibit': 1525, 'depressant': 1526, 'clinic': 1527, 'tick': 1528, 'appetite': 1529, 'immediately': 1530, 'x': 1531, 'ray': 1532, 'spine': 1533, 'bickering': 1534, 'semi': 1535, 'bottom': 1536, 'nerve': 1537, 'independent': 1538, 'unemployed': 1539, 'verge': 1540, 'anytime': 1541, 'ipad': 1542, 'grandbaby': 1543, 'shelf': 1544, 'unit': 1545, 'bake': 1546, 'pie': 1547, 'wrecking': 1548, 'garbage': 1549, 'receive': 1550, 'flare': 1551, 'outside': 1552, 'license': 1553, 'sadness': 1554, 'funk': 1555, 'headache': 1556, 'attitude': 1557, 'somebody': 1558, 'unworthiness': 1559, 'motivate': 1560, 'build': 1561, 'large': 1562, 'debt': 1563, 'borrow': 1564, 'disappear': 1565, 'anywhere': 1566, '000': 1567, 'bill': 1568, 'antisocial': 1569, 'liar': 1570, 'pace': 1571, 'conduct': 1572, 'respectfully': 1573, 'sake': 1574, 'definite': 1575, 'attraction': 1576, 'misery': 1577, 'establish': 1578, 'share': 1579, 'implant': 1580, 'address': 1581, 'ability': 1582, 'fire': 1583, 'santa': 1584, 'desperate': 1585, 'magic': 1586, 'pushy': 1587, 'madly': 1588, 'mile': 1589, 'mutual': 1590, 'fly': 1591, 'sooner': 1592, 'aggression': 1593, 'environment': 1594, 'investigate': 1595, 'procrastination': 1596, 'c': 1597, 'f': 1598, 'freshman': 1599, 'tim': 1600, 'sally': 1601, 'endure': 1602, 'fair': 1603, 'instantly': 1604, 'stepdad': 1605, 'parking': 1606, 'depend': 1607, 'damage': 1608, 'penetration': 1609, 'supervision': 1610, 'alcoholic': 1611, 'goal': 1612, 'delete': 1613, 'definitely': 1614, 'career': 1615, 'ungrateful': 1616, 'exhaust': 1617, 'contract': 1618, 'hunt': 1619, 'creature': 1620, 'ill': 1621, 'halloween': 1622, 'diagnosis': 1623, 'agoraphobia': 1624, 'incapable': 1625, 'waste': 1626, 'resource': 1627, 'click': 1628, 'associate': 1629, 'failure': 1630, 'seat': 1631, 'belt': 1632, 'meaningless': 1633, 'conclusion': 1634, 'possessiveness': 1635, '29': 1636, 'rush': 1637, 'protect': 1638, 'interaction': 1639, 'july': 1640, 'grocery': 1641, 'alive': 1642, 'intimately': 1643, 'awhile': 1644, 'relieve': 1645, 'repress': 1646, 'oddly': 1647, 'jumpy': 1648, 'slight': 1649, 'injure': 1650, 'prison': 1651, 'blur': 1652, 'direct': 1653, 'resentment': 1654, 'war': 1655, 'butterfly': 1656, 'molest': 1657, 'pink': 1658, 'barbie': 1659, 'backpack': 1660, 'fit': 1661, 'abstain': 1662, 'guess': 1663, 'incredibly': 1664, 'escape': 1665, 'crowd': 1666, 'sweaty': 1667, 'subsequently': 1668, 'accountability': 1669, 'halfway': 1670, 'relapse': 1671, 'dress': 1672, 'apathetic': 1673, 'television': 1674, 'unconditionally': 1675, 'voicemail': 1676, '24': 1677, 'impress': 1678, 'hysterically': 1679, 'sweat': 1680, 'scribble': 1681, 'grief': 1682, 'hobby': 1683, 'hr': 1684, 'nourish': 1685, 'nasty': 1686, 'ive': 1687, 'penalize': 1688, 'prior': 1689, 'softball': 1690, 'obligate': 1691, 'runner': 1692, 'wrap': 1693, 'arise': 1694, 'tremendously': 1695, 'alzheimer': 1696, 'interview': 1697, 'tumblr': 1698, 'squat': 1699, 'unusually': 1700, 'wont': 1701, 'altercation': 1702, 'total': 1703, 'imaginary': 1704, 'choose': 1705, 'clue': 1706, 'carry': 1707, 'decrease': 1708, 'butt': 1709, 'peace': 1710, 'mainly': 1711, 'december': 1712, 'object': 1713, 'makeup': 1714, 'tuck': 1715, 'resemble': 1716, 'vagina': 1717, 'strap': 1718, 'anal': 1719, 'react': 1720, 'bash': 1721, 'various': 1722, 'overly': 1723, 'hypochondriac': 1724, 'chemistry': 1725, 'loathe': 1726, 'esd': 1727, 'disable': 1728, 'grandparent': 1729, 'automobile': 1730, 'response': 1731, 'payment': 1732, 'recent': 1733, 'photo': 1734, 'boundary': 1735, 'rock': 1736, 'community': 1737, 'comb': 1738, 'furious': 1739, 'attatchment': 1740, 'classify': 1741, 'characteristic': 1742, 'view': 1743, 'suppress': 1744, 'vibe': 1745, 'overall': 1746, 'discussion': 1747, 'purchase': 1748, 'personalize': 1749, 'reimburse': 1750, 'consistently': 1751, 'cancellation': 1752, 'shit': 1753, 'classmate': 1754, 'ache': 1755, 'peter': 1756, 'jennifer': 1757, 'buy': 1758, 'orient': 1759, 'tense': 1760, 'overbear': 1761, 'magnify': 1762, 'possessive': 1763, 'underlie': 1764, 'blister': 1765, 'recognize': 1766, 'hypocrite': 1767, 'tomorrow': 1768, 'dig': 1769, 'grind': 1770, 'r': 1771, 'practically': 1772, 'florida': 1773, 'ok': 1774, 'affectionate': 1775, 'internet': 1776, 'addition': 1777, 'originally': 1778, 'replace': 1779, 'tie': 1780, 'window': 1781, 'restaurant': 1782, 'adapt': 1783, 'astound': 1784, 'cruelty': 1785, 'faith': 1786, 'humanity': 1787, 'hint': 1788, 'dumb': 1789, 'fund': 1790, 'material': 1791, 'envious': 1792, 'plus': 1793, 'grieve': 1794, 'awake': 1795, 'police': 1796, 'bore': 1797, 'distraction': 1798, 'choke': 1799, 'spanking': 1800, 'toy': 1801, 'likewise': 1802, 'blatantly': 1803, 'angle': 1804, 'image': 1805, 'invalidate': 1806, 'location': 1807, 'isolation': 1808, 'genuinely': 1809, 'utter': 1810, 'discredit': 1811, 'plea': 1812, 'decade': 1813, 'unforgiving': 1814, 'granddaughter': 1815, 'ugliness': 1816, 'exaggerate': 1817, 'proportion': 1818, 'reality': 1819, 'reasonable': 1820, 'insensitive': 1821, 'postpartum': 1822, 'grandchild': 1823, 'sincerely': 1824, 'newly': 1825, 'particularly': 1826, 'partly': 1827, 'romance': 1828, 'center': 1829, 'hectic': 1830, 'orgasm': 1831, 'legitimately': 1832, 'angrily': 1833, 'denial': 1834, 'broach': 1835, 'subject': 1836, 'obsession': 1837, 'prioritize': 1838, 'grab': 1839, 'exchange': 1840, 'brunch': 1841, 'reciprocate': 1842, 'harmful': 1843, 'prophesy': 1844, 'accusatory': 1845, 'unbearably': 1846, 'cell': 1847, 'sanity': 1848, 'ethical': 1849, 'cod': 1850, 'ramification': 1851, 'thirty': 1852, 'till': 1853, 'kinda': 1854, 'brick': 1855, 'expressive': 1856, 'thru': 1857, 'strength': 1858, 'rapist': 1859, 'convict': 1860, 'texas': 1861, 'occasion': 1862, 'adoption': 1863, 'maintenance': 1864, 'evict': 1865, 'majorly': 1866, 'impossible': 1867, 'sunday': 1868, 'restrict': 1869, 'competition': 1870, 'planet': 1871, 'flip': 1872, 'upside': 1873, '2008': 1874, 'deeply': 1875, 'loner': 1876, 'management': 1877, 'apparently': 1878, 'odd': 1879, 'demeanor': 1880, 'shift': 1881, 'inappropriately': 1882, 'urinate': 1883, 'peeing': 1884, 'litter': 1885, 'bottle': 1886, 'directly': 1887, 'literature': 1888, 'incorrect': 1889, 'harsh': 1890, 'science': 1891, 'assignment': 1892, 'network': 1893, 'remote': 1894, 'elsewhere': 1895, 'fee': 1896, 'brag': 1897, 'bath': 1898, 'soap': 1899, 'loyal': 1900, 'gynecologist': 1901, 'attend': 1902, 'sonogram': 1903, 'transition': 1904, 'persist': 1905, '4th': 1906, 'loom': 1907, 'spurt': 1908, 'pure': 1909, 'hormone': 1910, 'destructive': 1911, 'bite': 1912, 'arm': 1913, 'scratch': 1914, 'thigh': 1915, 'earring': 1916, 'sickness': 1917, 'hospitalize': 1918, 'loneliness': 1919, 'search': 1920, 'void': 1921, 'conscious': 1922, 'train': 1923, 'gag': 1924, 'june': 1925, '2016': 1926, 'detach': 1927, 'dependency': 1928, 'bi': 1929, 'polar': 1930, 'detachment': 1931, 'sneaky': 1932, 'harass': 1933, 'stalk': 1934, 'presence': 1935, 'battle': 1936, 'intervention': 1937, 'casually': 1938, 'compromise': 1939, 'casual': 1940, 'power': 1941, 'wit': 1942, 'relatively': 1943, 'fraternity': 1944, 'regretful': 1945, 'flaunt': 1946, 'bury': 1947, 'jan': 1948, 'access': 1949, 'wedge': 1950, 'advise': 1951, 'consequence': 1952, 'dislocate': 1953, 'hip': 1954, 'electroshock': 1955, 'keen': 1956, 'mentor': 1957, 'spiritually': 1958, 'manipulation': 1959, 'leadership': 1960, 'suspect': 1961, 'bomb': 1962, 'skyped': 1963, 'skype': 1964, 'joy': 1965, 'assure': 1966, 'cyst': 1967, 'remove': 1968, 'testicle': 1969, 'season': 1970, 'unfair': 1971, 'vomit': 1972, 'joyous': 1973, 'massive': 1974, 'forum': 1975, 'thankful': 1976, 'academic': 1977, 'culture': 1978, 'relocate': 1979, 'approve': 1980, 'loose': 1981, 'tunnel': 1982, 'chaos': 1983, 'infest': 1984, 'rip': 1985, 'everywhere': 1986, 'solution': 1987, 'farm': 1988, 'piece': 1989, 'curl': 1990, 'mall': 1991, 'cling': 1992, 'conflict': 1993, 'cashier': 1994, 'pump': 1995, 'bet': 1996, 'poodle': 1997, 'disagree': 1998, 'tease': 1999, 'chase': 2000, 'undiagnosed': 2001, 'mass': 2002, 'infection': 2003, 'locker': 2004, 'smile': 2005, 'unconfident': 2006, 'doom': 2007, 'employee': 2008, 'outlet': 2009, 'asthma': 2010, 'weapon': 2011, 'entirely': 2012, 'tragic': 2013, 'twist': 2014, 'legitimate': 2015, 'borrowing': 2016, 'trail': 2017, 'sob': 2018, 'gamble': 2019, 'compulsively': 2020, 'epilepsy': 2021, 'simple': 2022, 'pathological': 2023, 'technology': 2024, 'fantasy': 2025, 'unwilling': 2026, 'participant': 2027, 'hypnosis': 2028, 'debilitate': 2029, 'wellbutrin': 2030, 'unwillingness': 2031, 'despair': 2032, 'complacent': 2033, 'fulfillment': 2034, 'regain': 2035, 'zombie': 2036, 'haze': 2037, 'concentrate': 2038, 'infuriate': 2039, 'gasoline': 2040, 'respectful': 2041, 'rebound': 2042, 'console': 2043, 'companionship': 2044, 'hysterectomy': 2045, 'knee': 2046, 'eve': 2047, 'alright': 2048, 'crap': 2049, 'golden': 2050, 'deviant': 2051, 'trip': 2052, 'unintentional': 2053, 'unbearable': 2054, 'august': 2055, 'signal': 2056, 'cross': 2057, 'recover': 2058, 'ridiculous': 2059, 'violently': 2060, 'interact': 2061, 'spark': 2062, 'acknowledgment': 2063, 'repetition': 2064, 'cheap': 2065, 'walmart': 2066, 'honeymoon': 2067, 'downward': 2068, 'famous': 2069, 'across': 2070, 'afternoon': 2071, 'table': 2072, 'assessment': 2073, 'abuser': 2074, 'invisible': 2075, 'romantically': 2076, 'platonic': 2077, 'free': 2078, 'kitty': 2079, 'gross': 2080, 'debit': 2081, 'punish': 2082, 'ground': 2083, 'betrayal': 2084, 'forgiveness': 2085, '3000': 2086, 'grateful': 2087, 'validation': 2088, 'haunt': 2089, 'newborn': 2090, 'pregnancy': 2091, 'abortion': 2092, 'temper': 2093, 'wheel': 2094, 'stupidly': 2095, 'climax': 2096, 'h': 2097, 'lovecraft': 2098, 'edgar': 2099, 'allen': 2100, 'poe': 2101, 'saturday': 2102, 'powerful': 2103, 'flesh': 2104, 'elephant': 2105, 'insinuate': 2106, 'babysit': 2107, 'refer': 2108, '16': 2109, 'aggravate': 2110, 'forbid': 2111, 'brainwash': 2112, 'deceive': 2113, 'slut': 2114, 'devil': 2115, 'worshipper': 2116, 'retail': 2117, 'passenger': 2118, 'ride': 2119, 'backseat': 2120, 'lean': 2121, 'degrade': 2122, 'warmly': 2123, 'agonize': 2124, 'distrust': 2125, 'temporary': 2126, 'strand': 2127, 'passive': 2128, 'aggressive': 2129, 'snoring': 2130, 'deliver': 2131, 'clot': 2132, 'bleed': 2133, 'transfusion': 2134, 'undergo': 2135, 'ordeal': 2136, 'unaccomplished': 2137, 'comfortably': 2138, 'clarity': 2139, 'dance': 2140, 'knob': 2141, 'paranoia': 2142, 'noisy': 2143, 'reproduce': 2144, 'hispanic': 2145, 'language': 2146, 'overstep': 2147, 'balance': 2148, 'reflect': 2149, 'intuition': 2150, 'guardianship': 2151, 'nonexistent': 2152, 'nowadays': 2153, 'interfere': 2154, 'automatically': 2155, '19': 2156, 'vastly': 2157, 'disproportionate': 2158, 'lucid': 2159, 'drown': 2160, 'crumble': 2161, 'adoptive': 2162, 'plug': 2163, 'ear': 2164, 'moody': 2165, 'clingy': 2166, 'info': 2167, 'pathetic': 2168, 'mature': 2169, 'bossy': 2170, 'randomly': 2171, 'compatible': 2172, 'criminal': 2173, 'justice': 2174, 'bdsm': 2175, 'unprotected': 2176, 'paralysis': 2177, 'mock': 2178, 'practice': 2179, 'piano': 2180, 'quinceañera': 2181, 'film': 2182, 'meditation': 2183, 'cute': 2184, 'reflection': 2185, 'prescribe': 2186, 'scold': 2187, 'button': 2188, 'sweating': 2189, 'conscience': 2190, 'annoy': 2191, 'im': 2192, 'charm': 2193, 'hissy': 2194, 'assist': 2195, 'joyless': 2196, 'motion': 2197, 'assault': 2198, 'blunt': 2199, 'crisis': 2200, 'twin': 2201, 'meltdown': 2202, 'camera': 2203, 'wherever': 2204, 'radio': 2205, 'whisper': 2206, 'hangout': 2207, 'wednesday': 2208, 'maze': 2209, 'socially': 2210, 'straightforward': 2211, 'unsettled': 2212, 'soul': 2213, 'codependent': 2214, 'manipulative': 2215, 'diabetes': 2216, 'horrendous': 2217, 'contribute': 2218, 'unrealistic': 2219, 'item': 2220, 'intellectual': 2221, 'disease': 2222, 'paralyze': 2223, 'performance': 2224, 'extensive': 2225, 'humiliate': 2226, 'temp': 2227, 'agency': 2228, 'provider': 2229, 'pursue': 2230, 'betray': 2231, 'isolate': 2232, 'curb': 2233, 'horrifically': 2234, 'unspeakable': 2235, 'stressful': 2236, 'solace': 2237, 'motherly': 2238, 'mentality': 2239, 'fruit': 2240, 'vegetable': 2241, 'junk': 2242, 'pointless': 2243, 'clown': 2244, 'uncontrollably': 2245, 'inflammatory': 2246, 'demyelinate': 2247, 'polyneuropathy': 2248, 'caregiver': 2249, 'uncontrollable': 2250, 'repetitive': 2251, 'somewhat': 2252, 'occasionally': 2253, 'benign': 2254, 'tumor': 2255, 'destroy': 2256, 'armed': 2257, 'leukemia': 2258, 'playfully': 2259, 'outfit': 2260, 'scan': 2261, 'diabetic': 2262, 'attachment': 2263, 'innocent': 2264, 'freedom': 2265, 'lover': 2266, 'actively': 2267, 'stretch': 2268, 'mark': 2269, 'heartbroken': 2270, 'quality': 2271, 'overweight': 2272, 'enormous': 2273, 'load': 2274, 'electrician': 2275, 'operate': 2276, 'machinery': 2277, 'november': 2278, '11pm': 2279, 'april': 2280, 'yes': 2281, 'danger': 2282, 'formally': 2283, 'lovingly': 2284, 'education': 2285, 'jail': 2286, 'overdramatic': 2287, 'option': 2288, 'proud': 2289, 'hateful': 2290, 'quote': 2291, 'appreciate': 2292, 'insure': 2293, 'illegible': 2294, 'envelope': 2295, 'contain': 2296, 'ersatz': 2297, 'atone': 2298, 'cowardly': 2299, 'kindness': 2300, 'karma': 2301, 'jade': 2302, 'convey': 2303, 'specifically': 2304, 'deteriorate': 2305, 'despise': 2306, 'absurdly': 2307, 'vulgar': 2308, 'upcoming': 2309, 'schooling': 2310, 'zero': 2311, 'prank': 2312, '60': 2313, 'asperger': 2314, 'flirty': 2315, 'risk': 2316, 'restrain': 2317, 'website': 2318, 'hack': 2319, 'misophonia': 2320, '99': 2321, 'avoidant': 2322, 'dsm': 2323, 'iv': 2324, 'peaceful': 2325, 'eventhough': 2326, 'discontinue': 2327, 'apparent': 2328, 'toxic': 2329, 'fishing': 2330, 'pond': 2331, 'frog': 2332, 'knife': 2333, 'million': 2334, 'profusely': 2335, 'paycheck': 2336, 'trash': 2337, 'validate': 2338, 'tendency': 2339, 'flight': 2340, 'stair': 2341, 'leg': 2342, 'curiosity': 2343, 'kidnap': 2344, 'fourteen': 2345, 'gunpoint': 2346, 'nineteen': 2347, 'careful': 2348, 'project': 2349, 'onto': 2350, 'hyperactivity': 2351, 'income': 2352, 'crappy': 2353, 'grand': 2354, 'strict': 2355, '48': 2356, 'tuesday': 2357, 'double': 2358, 'sink': 2359, 'useless': 2360, 'area': 2361, 'primary': 2362, 'physician': 2363, 'zoosk': 2364, 'luck': 2365, '5000': 2366, 'deductible': 2367, 'screw': 2368, 'promote': 2369, 'reoccurring': 2370, 'ninth': 2371, 'principal': 2372, 'spell': 2373, 'boot': 2374, 'traumatic': 2375, 'outburst': 2376, 'intil': 2377, 'yr': 2378, 'ireland': 2379, 'profanity': 2380, 'pertain': 2381, 'dramatic': 2382, 'tiptoe': 2383, 'neatly': 2384, 'abou': 2385, 'basic': 2386, 'regularly': 2387, 'reputation': 2388, 'longtime': 2389, '1000': 2390, 'invitation': 2391, 'mend': 2392, 'sneak': 2393, 'difficulty': 2394, 'heroin': 2395, 'manipulate': 2396, 'stepson': 2397, 'stepmom': 2398, 'illegally': 2399, 'opiate': 2400, 'unannounced': 2401, 'opinionated': 2402, 'unsolicited': 2403, 'rear': 2404, 'privacy': 2405, 'barge': 2406, 'key': 2407, 'permission': 2408, 'combative': 2409, 'opening': 2410, 'instigate': 2411, 'terminally': 2412, 'psychologically': 2413, 'foster': 2414, 'untill': 2415, 'pm': 2416}\n"
     ]
    }
   ],
   "source": [
    "tokenizer = preprocessing.text.Tokenizer()\n",
    "tokenizer.fit_on_texts( questionText_nostops ) \n",
    "tokenized_questions = tokenizer.texts_to_sequences( questionText_nostops ) \n",
    "print('Sample tokenized: {}'.format(tokenized_questions[0]))\n",
    "print('==================================================================================================================\\n')\n",
    "\n",
    "length_list = list()\n",
    "for token_seq in tokenized_questions:\n",
    "    length_list.append( len( token_seq ))\n",
    "max_input_length = np.array( length_list ).max()\n",
    "print( 'Questions max length is {} words'.format( max_input_length ))\n",
    "print('==================================================================================================================\\n')\n",
    "\n",
    "padded_questions = preprocessing.sequence.pad_sequences( tokenized_questions , maxlen=max_input_length , padding='post' )\n",
    "input_data = np.array( padded_questions )\n",
    "print( 'Input data shape -> {}\\n'.format( input_data.shape ))\n",
    "print('Input data sample->\\n {}'.format(input_data[0]))\n",
    "print('==================================================================================================================\\n')\n",
    "\n",
    "question_word_dict = tokenizer.word_index\n",
    "num_question_tokens = len( question_word_dict )+1\n",
    "print( 'Number of Question tokens = {}\\n'.format( num_question_tokens))\n",
    "print('Dictionary: {}'.format(question_word_dict))"
   ]
  },
  {
   "cell_type": "code",
   "execution_count": 31,
   "metadata": {
    "id": "_9TZJ9-szxeq"
   },
   "outputs": [],
   "source": [
    "from sklearn.model_selection import train_test_split"
   ]
  },
  {
   "cell_type": "code",
   "execution_count": 32,
   "metadata": {
    "id": "mPBnSm-xzxeq"
   },
   "outputs": [],
   "source": [
    "x_train, x_test, y_train, y_test = train_test_split(input_data, targetdf, test_size = 0.3, random_state=2)\n"
   ]
  },
  {
   "cell_type": "code",
   "execution_count": 33,
   "metadata": {
    "colab": {
     "base_uri": "https://localhost:8080/"
    },
    "id": "kfaG74OIzxeq",
    "outputId": "65174c98-c7e2-41bc-d9ab-da4f64e07fe5"
   },
   "outputs": [
    {
     "name": "stdout",
     "output_type": "stream",
     "text": [
      "(963, 220) (413, 220)\n",
      "(963, 32) (413, 32)\n"
     ]
    }
   ],
   "source": [
    "print(x_train.shape, x_test.shape)\n",
    "print(y_train.shape, y_test.shape)"
   ]
  },
  {
   "cell_type": "code",
   "execution_count": 34,
   "metadata": {
    "id": "iAFzJ0Oxzxeq"
   },
   "outputs": [
    {
     "name": "stdout",
     "output_type": "stream",
     "text": [
      "WARNING:tensorflow:From C:\\Users\\amitu\\AppData\\Local\\Programs\\Python\\Python311\\Lib\\site-packages\\keras\\src\\backend.py:1398: The name tf.executing_eagerly_outside_functions is deprecated. Please use tf.compat.v1.executing_eagerly_outside_functions instead.\n",
      "\n",
      "WARNING:tensorflow:From C:\\Users\\amitu\\AppData\\Local\\Programs\\Python\\Python311\\Lib\\site-packages\\keras\\src\\optimizers\\__init__.py:309: The name tf.train.Optimizer is deprecated. Please use tf.compat.v1.train.Optimizer instead.\n",
      "\n"
     ]
    }
   ],
   "source": [
    "inputs = tf.keras.layers.Input(shape=(None,))\n",
    "embedding = tf.keras.layers.Embedding(num_question_tokens, 200, mask_zero=True)(inputs)\n",
    "lstm_outputs = tf.keras.layers.Bidirectional(tf.keras.layers.LSTM(100, return_state=False), name='bidir') (embedding)\n",
    "dense_outputs = tf.keras.layers.Dense(500, activation=tf.keras.activations.relu) (lstm_outputs)\n",
    "outputs = tf.keras.layers.Dense(32, activation=tf.keras.activations.softmax) (dense_outputs)\n",
    "\n",
    "LSTM_model = tf.keras.models.Model(inputs, outputs)\n",
    "LSTM_model.compile(optimizer='adam', loss='categorical_crossentropy', metrics=['accuracy', 'Precision', 'Recall'])"
   ]
  },
  {
   "cell_type": "code",
   "execution_count": 35,
   "metadata": {
    "colab": {
     "base_uri": "https://localhost:8080/"
    },
    "id": "V3263fAizxer",
    "outputId": "0b50651a-d8ed-41ca-96c9-3bb648305b10"
   },
   "outputs": [
    {
     "name": "stdout",
     "output_type": "stream",
     "text": [
      "Model: \"model\"\n",
      "_________________________________________________________________\n",
      " Layer (type)                Output Shape              Param #   \n",
      "=================================================================\n",
      " input_1 (InputLayer)        [(None, None)]            0         \n",
      "                                                                 \n",
      " embedding (Embedding)       (None, None, 200)         483400    \n",
      "                                                                 \n",
      " bidir (Bidirectional)       (None, 200)               240800    \n",
      "                                                                 \n",
      " dense (Dense)               (None, 500)               100500    \n",
      "                                                                 \n",
      " dense_1 (Dense)             (None, 32)                16032     \n",
      "                                                                 \n",
      "=================================================================\n",
      "Total params: 840732 (3.21 MB)\n",
      "Trainable params: 840732 (3.21 MB)\n",
      "Non-trainable params: 0 (0.00 Byte)\n",
      "_________________________________________________________________\n"
     ]
    }
   ],
   "source": [
    "LSTM_model.summary()\n"
   ]
  },
  {
   "cell_type": "code",
   "execution_count": 36,
   "metadata": {
    "id": "bwfS4Bzozxer"
   },
   "outputs": [],
   "source": [
    "history=r\"C:\\Users\\amitu\\Minor Project\\Final_LSTM_model-2.h5\""
   ]
  },
  {
   "cell_type": "code",
   "execution_count": 37,
   "metadata": {
    "id": "htzvuIvnzxer"
   },
   "outputs": [
    {
     "name": "stderr",
     "output_type": "stream",
     "text": [
      "C:\\Users\\amitu\\AppData\\Local\\Programs\\Python\\Python311\\Lib\\site-packages\\keras\\src\\engine\\training.py:3103: UserWarning: You are saving your model as an HDF5 file via `model.save()`. This file format is considered legacy. We recommend using instead the native Keras format, e.g. `model.save('my_model.keras')`.\n",
      "  saving_api.save_model(\n"
     ]
    }
   ],
   "source": [
    "LSTM_model.save(r\"C:\\Users\\amitu\\Minor Project\\Final_LSTM_model-2.h5\")\n"
   ]
  },
  {
   "cell_type": "code",
   "execution_count": 38,
   "metadata": {
    "id": "33S3Y_QOzxer"
   },
   "outputs": [],
   "source": [
    "def predict(text):\n",
    "    processed = preprocess_text(text)\n",
    "    text_no_stops = [word for word in processed if word not in stop_words]\n",
    "    tokenized = tokenizer.texts_to_sequences( text_no_stops )\n",
    "    padded = preprocessing.sequence.pad_sequences( tokenized , maxlen=max_input_length , padding='post' )\n",
    "    input_data = np.array( padded )\n",
    "    output = LSTM_model.predict(input_data)\n",
    "    index = np.argmax(output[0])\n",
    "    print(targetdf.columns[index])"
   ]
  },
  {
   "cell_type": "code",
   "execution_count": 39,
   "metadata": {
    "colab": {
     "base_uri": "https://localhost:8080/"
    },
    "id": "68wOtj6Pzxer",
    "outputId": "dcd53131-609a-4bfc-8fb6-c81cff00f5d1"
   },
   "outputs": [
    {
     "name": "stdout",
     "output_type": "stream",
     "text": [
      "1/1 [==============================] - 4s 4s/step\n",
      "Stress\n"
     ]
    }
   ],
   "source": [
    "predict(''''I fight with my husband everyday. We cannot seem to agree on anything.\n",
    "        The marriage is failing and I need to now do a divorce. This has affected my mentally.\n",
    "        I cannot stop but think about all the memories we had and I was about to loose everything that mattered.''')"
   ]
  },
  {
   "cell_type": "code",
   "execution_count": 40,
   "metadata": {
    "id": "SGG_0UQDzxes"
   },
   "outputs": [],
   "source": [
    "newdf = counseldf"
   ]
  },
  {
   "cell_type": "code",
   "execution_count": 41,
   "metadata": {
    "id": "DWEP_Wi_zxes"
   },
   "outputs": [],
   "source": [
    "newdf.topics = pd.Categorical(newdf.topics)\n",
    "newdf['target'] = newdf.topics.cat.codes"
   ]
  },
  {
   "cell_type": "code",
   "execution_count": 42,
   "metadata": {
    "id": "9thVYktEzxes"
   },
   "outputs": [],
   "source": [
    "msk = np.random.rand(len(newdf)) < 0.8\n",
    "\n",
    "train_df = newdf[msk]\n",
    "\n",
    "test_df = newdf[~msk]"
   ]
  },
  {
   "cell_type": "code",
   "execution_count": 43,
   "metadata": {
    "colab": {
     "base_uri": "https://localhost:8080/",
     "height": 206
    },
    "id": "nbnTfYMfzxes",
    "outputId": "0d672717-cd76-417e-f626-87c2e62bd0b0"
   },
   "outputs": [
    {
     "data": {
      "text/html": [
       "<div>\n",
       "<style scoped>\n",
       "    .dataframe tbody tr th:only-of-type {\n",
       "        vertical-align: middle;\n",
       "    }\n",
       "\n",
       "    .dataframe tbody tr th {\n",
       "        vertical-align: top;\n",
       "    }\n",
       "\n",
       "    .dataframe thead th {\n",
       "        text-align: right;\n",
       "    }\n",
       "</style>\n",
       "<table border=\"1\" class=\"dataframe\">\n",
       "  <thead>\n",
       "    <tr style=\"text-align: right;\">\n",
       "      <th></th>\n",
       "      <th>questionText</th>\n",
       "      <th>topics</th>\n",
       "      <th>target</th>\n",
       "    </tr>\n",
       "  </thead>\n",
       "  <tbody>\n",
       "    <tr>\n",
       "      <th>0</th>\n",
       "      <td>My wife and mother are having tense disagreeme...</td>\n",
       "      <td>Family Conflict</td>\n",
       "      <td>12</td>\n",
       "    </tr>\n",
       "    <tr>\n",
       "      <th>2</th>\n",
       "      <td>I have secrets in my mind, and I don't know wh...</td>\n",
       "      <td>Family Conflict</td>\n",
       "      <td>12</td>\n",
       "    </tr>\n",
       "    <tr>\n",
       "      <th>3</th>\n",
       "      <td>I am extremely possessive in my relationships ...</td>\n",
       "      <td>Behavioral Change</td>\n",
       "      <td>4</td>\n",
       "    </tr>\n",
       "    <tr>\n",
       "      <th>4</th>\n",
       "      <td>I had a head injury a few years ago and my min...</td>\n",
       "      <td>Anxiety</td>\n",
       "      <td>3</td>\n",
       "    </tr>\n",
       "    <tr>\n",
       "      <th>5</th>\n",
       "      <td>I want a secure relationship with someone that...</td>\n",
       "      <td>Relationship Dissolution</td>\n",
       "      <td>22</td>\n",
       "    </tr>\n",
       "  </tbody>\n",
       "</table>\n",
       "</div>"
      ],
      "text/plain": [
       "                                        questionText  \\\n",
       "0  My wife and mother are having tense disagreeme...   \n",
       "2  I have secrets in my mind, and I don't know wh...   \n",
       "3  I am extremely possessive in my relationships ...   \n",
       "4  I had a head injury a few years ago and my min...   \n",
       "5  I want a secure relationship with someone that...   \n",
       "\n",
       "                      topics  target  \n",
       "0            Family Conflict      12  \n",
       "2            Family Conflict      12  \n",
       "3          Behavioral Change       4  \n",
       "4                    Anxiety       3  \n",
       "5  Relationship Dissolution       22  "
      ]
     },
     "execution_count": 43,
     "metadata": {},
     "output_type": "execute_result"
    }
   ],
   "source": [
    "train_df.head()"
   ]
  },
  {
   "cell_type": "code",
   "execution_count": 44,
   "metadata": {
    "colab": {
     "base_uri": "https://localhost:8080/",
     "height": 206
    },
    "id": "cycOcC46zxes",
    "outputId": "512b7d31-3aea-48b1-a138-92987b54acaf"
   },
   "outputs": [
    {
     "data": {
      "text/html": [
       "<div>\n",
       "<style scoped>\n",
       "    .dataframe tbody tr th:only-of-type {\n",
       "        vertical-align: middle;\n",
       "    }\n",
       "\n",
       "    .dataframe tbody tr th {\n",
       "        vertical-align: top;\n",
       "    }\n",
       "\n",
       "    .dataframe thead th {\n",
       "        text-align: right;\n",
       "    }\n",
       "</style>\n",
       "<table border=\"1\" class=\"dataframe\">\n",
       "  <thead>\n",
       "    <tr style=\"text-align: right;\">\n",
       "      <th></th>\n",
       "      <th>questionText</th>\n",
       "      <th>topics</th>\n",
       "      <th>target</th>\n",
       "    </tr>\n",
       "  </thead>\n",
       "  <tbody>\n",
       "    <tr>\n",
       "      <th>1</th>\n",
       "      <td>I'm planning to have baby, so I have to quit s...</td>\n",
       "      <td>Substance Abuse</td>\n",
       "      <td>29</td>\n",
       "    </tr>\n",
       "    <tr>\n",
       "      <th>6</th>\n",
       "      <td>I easily recognize this but have no control ov...</td>\n",
       "      <td>Anger Management</td>\n",
       "      <td>2</td>\n",
       "    </tr>\n",
       "    <tr>\n",
       "      <th>17</th>\n",
       "      <td>Now I have anger and trust issues. How can I t...</td>\n",
       "      <td>Domestic Violence</td>\n",
       "      <td>10</td>\n",
       "    </tr>\n",
       "    <tr>\n",
       "      <th>21</th>\n",
       "      <td>My son claims that hes been having extremely v...</td>\n",
       "      <td>Anger Management</td>\n",
       "      <td>2</td>\n",
       "    </tr>\n",
       "    <tr>\n",
       "      <th>31</th>\n",
       "      <td>I loved him more than anything. He passed away...</td>\n",
       "      <td>Grief and Loss</td>\n",
       "      <td>13</td>\n",
       "    </tr>\n",
       "  </tbody>\n",
       "</table>\n",
       "</div>"
      ],
      "text/plain": [
       "                                         questionText             topics  \\\n",
       "1   I'm planning to have baby, so I have to quit s...    Substance Abuse   \n",
       "6   I easily recognize this but have no control ov...   Anger Management   \n",
       "17  Now I have anger and trust issues. How can I t...  Domestic Violence   \n",
       "21  My son claims that hes been having extremely v...   Anger Management   \n",
       "31  I loved him more than anything. He passed away...     Grief and Loss   \n",
       "\n",
       "    target  \n",
       "1       29  \n",
       "6        2  \n",
       "17      10  \n",
       "21       2  \n",
       "31      13  "
      ]
     },
     "execution_count": 44,
     "metadata": {},
     "output_type": "execute_result"
    }
   ],
   "source": [
    "test_df.head()"
   ]
  },
  {
   "cell_type": "code",
   "execution_count": 45,
   "metadata": {
    "colab": {
     "base_uri": "https://localhost:8080/"
    },
    "id": "RpRo8nRP10_j",
    "outputId": "dcd5b4dd-274e-478b-8259-4f1be827cc72"
   },
   "outputs": [
    {
     "name": "stderr",
     "output_type": "stream",
     "text": [
      "ERROR: Could not find a version that satisfies the requirement tensorflow==2.0 (from versions: 2.12.0rc0, 2.12.0rc1, 2.12.0, 2.12.1, 2.13.0rc0, 2.13.0rc1, 2.13.0rc2, 2.13.0, 2.13.1, 2.14.0rc0, 2.14.0rc1, 2.14.0, 2.14.1, 2.15.0rc0, 2.15.0rc1, 2.15.0, 2.15.1, 2.16.0rc0, 2.16.1)\n",
      "ERROR: No matching distribution found for tensorflow==2.0\n",
      "\n",
      "[notice] A new release of pip is available: 23.3.1 -> 24.0\n",
      "[notice] To update, run: python.exe -m pip install --upgrade pip\n"
     ]
    },
    {
     "name": "stdout",
     "output_type": "stream",
     "text": [
      "Requirement already satisfied: tensorflow_hub in c:\\users\\amitu\\appdata\\local\\programs\\python\\python311\\lib\\site-packages (0.15.0)\n",
      "Requirement already satisfied: numpy>=1.12.0 in c:\\users\\amitu\\appdata\\local\\programs\\python\\python311\\lib\\site-packages (from tensorflow_hub) (1.25.2)\n",
      "Requirement already satisfied: protobuf>=3.19.6 in c:\\users\\amitu\\appdata\\local\\programs\\python\\python311\\lib\\site-packages (from tensorflow_hub) (4.23.4)\n"
     ]
    },
    {
     "name": "stderr",
     "output_type": "stream",
     "text": [
      "\n",
      "[notice] A new release of pip is available: 23.3.1 -> 24.0\n",
      "[notice] To update, run: python.exe -m pip install --upgrade pip\n",
      "\n",
      "[notice] A new release of pip is available: 23.3.1 -> 24.0\n",
      "[notice] To update, run: python.exe -m pip install --upgrade pip\n"
     ]
    },
    {
     "name": "stdout",
     "output_type": "stream",
     "text": [
      "Requirement already satisfied: bert-for-tf2 in c:\\users\\amitu\\appdata\\local\\programs\\python\\python311\\lib\\site-packages (0.14.9)\n",
      "Requirement already satisfied: py-params>=0.9.6 in c:\\users\\amitu\\appdata\\local\\programs\\python\\python311\\lib\\site-packages (from bert-for-tf2) (0.10.2)\n",
      "Requirement already satisfied: params-flow>=0.8.0 in c:\\users\\amitu\\appdata\\local\\programs\\python\\python311\\lib\\site-packages (from bert-for-tf2) (0.8.2)\n",
      "Requirement already satisfied: numpy in c:\\users\\amitu\\appdata\\local\\programs\\python\\python311\\lib\\site-packages (from params-flow>=0.8.0->bert-for-tf2) (1.25.2)\n",
      "Requirement already satisfied: tqdm in c:\\users\\amitu\\appdata\\local\\programs\\python\\python311\\lib\\site-packages (from params-flow>=0.8.0->bert-for-tf2) (4.66.1)\n",
      "Requirement already satisfied: colorama in c:\\users\\amitu\\appdata\\local\\programs\\python\\python311\\lib\\site-packages (from tqdm->params-flow>=0.8.0->bert-for-tf2) (0.4.6)\n",
      "Requirement already satisfied: sentencepiece in c:\\users\\amitu\\appdata\\local\\programs\\python\\python311\\lib\\site-packages (0.1.99)\n"
     ]
    },
    {
     "name": "stderr",
     "output_type": "stream",
     "text": [
      "\n",
      "[notice] A new release of pip is available: 23.3.1 -> 24.0\n",
      "[notice] To update, run: python.exe -m pip install --upgrade pip\n"
     ]
    },
    {
     "name": "stdout",
     "output_type": "stream",
     "text": [
      "WARNING:tensorflow:From C:\\Users\\amitu\\AppData\\Local\\Programs\\Python\\Python311\\Lib\\site-packages\\tensorflow_hub\\native_module.py:92: The name tf.GraphKeys is deprecated. Please use tf.compat.v1.GraphKeys instead.\n",
      "\n",
      "WARNING:tensorflow:From C:\\Users\\amitu\\AppData\\Local\\Programs\\Python\\Python311\\Lib\\site-packages\\tensorflow_hub\\saved_model_module.py:40: The name tf.saved_model.constants.LEGACY_INIT_OP_KEY is deprecated. Please use tf.compat.v1.saved_model.constants.LEGACY_INIT_OP_KEY instead.\n",
      "\n"
     ]
    }
   ],
   "source": [
    "!pip install tensorflow==2.0\n",
    "!pip install tensorflow_hub\n",
    "!pip install bert-for-tf2\n",
    "!pip install sentencepiece\n",
    "\n",
    "import tensorflow_hub as hub\n",
    "import tensorflow as tf\n",
    "from bert import tokenization\n",
    "from tensorflow.keras.models import Model       # Keras is the new high level API for TensorFlow\n",
    "import math"
   ]
  },
  {
   "cell_type": "code",
   "execution_count": null,
   "metadata": {
    "id": "ge_XNv9s1fMN"
   },
   "outputs": [],
   "source": [
    "import tensorflow_hub as hub\n",
    "from tensorflow.keras import layers\n",
    "import bert\n",
    "\n",
    "#Loding pretrained bert layer\n",
    "BertTokenizer = bert.bert_tokenization.FullTokenizer\n",
    "bert_layer = hub.KerasLayer(\"https://tfhub.dev/tensorflow/bert_en_uncased_L-12_H-768_A-12/1\",\n",
    "                            trainable=False)\n",
    "\n",
    "\n",
    "# Loading tokenizer from the bert layer\n",
    "vocab_file = bert_layer.resolved_object.vocab_file.asset_path.numpy()\n",
    "do_lower_case = bert_layer.resolved_object.do_lower_case.numpy()\n",
    "bert_tokenizer = BertTokenizer(vocab_file, do_lower_case)"
   ]
  },
  {
   "cell_type": "code",
   "execution_count": null,
   "metadata": {
    "id": "tGbWRkMR1noa"
   },
   "outputs": [],
   "source": [
    "# function to encode the text into tokens, masks, and segment flags\n",
    "import numpy as np\n",
    "def bert_encode(texts, tokenizer, max_len=512):\n",
    "    all_tokens = []\n",
    "    all_masks = []\n",
    "    all_segments = []\n",
    "    \n",
    "    for text in texts:\n",
    "        text = tokenizer.tokenize(text)\n",
    "            \n",
    "        text = text[:max_len-2]\n",
    "        input_sequence = [\"[CLS]\"] + text + [\"[SEP]\"]\n",
    "        pad_len = max_len - len(input_sequence)\n",
    "        \n",
    "        tokens = tokenizer.convert_tokens_to_ids(input_sequence)\n",
    "        tokens += [0] * pad_len\n",
    "        pad_masks = [1] * len(input_sequence) + [0] * pad_len\n",
    "        segment_ids = [0] * max_len\n",
    "        \n",
    "        all_tokens.append(tokens)\n",
    "        all_masks.append(pad_masks)\n",
    "        all_segments.append(segment_ids)\n",
    "    \n",
    "    return np.array(all_tokens), np.array(all_masks), np.array(all_segments)\n",
    "\n",
    "MAX_LEN = 220\n",
    "\n",
    "# encode train set \n",
    "train_input = bert_encode(train_df.questionText.values, bert_tokenizer, max_len=MAX_LEN)\n",
    "# encode  test set \n",
    "test_input = bert_encode(test_df.questionText.values, bert_tokenizer, max_len= MAX_LEN )\n",
    "train_labels = train_df.target.values"
   ]
  },
  {
   "cell_type": "code",
   "execution_count": null,
   "metadata": {
    "id": "K5uCg2fg2QWN"
   },
   "outputs": [],
   "source": [
    "# from tf.keras.utils import to_categorical\n",
    "\n",
    "categorical_labels = tf.keras.utils.to_categorical(train_labels, num_classes=32)"
   ]
  },
  {
   "cell_type": "code",
   "execution_count": null,
   "metadata": {
    "colab": {
     "base_uri": "https://localhost:8080/"
    },
    "id": "skGOBFFl2TT8",
    "outputId": "068ea7e1-02dd-4a85-b5f7-2827ea80c797"
   },
   "outputs": [],
   "source": [
    "# first define input for token, mask and segment id  \n",
    "from tensorflow.keras.layers import  Input\n",
    "input_word_ids = Input(shape=(MAX_LEN,), dtype=tf.int32, name=\"input_word_ids\")\n",
    "input_mask = Input(shape=(MAX_LEN,), dtype=tf.int32, name=\"input_mask\")\n",
    "segment_ids = Input(shape=(MAX_LEN,), dtype=tf.int32, name=\"segment_ids\")\n",
    "\n",
    "#  output  \n",
    "from tensorflow.keras.layers import Dense\n",
    "pooled_output, sequence_output = bert_layer([input_word_ids, input_mask, segment_ids])  \n",
    "clf_output = sequence_output[:, 0, :]\n",
    "out = Dense(32, activation='sigmoid')(clf_output)   \n",
    "\n",
    "# intilize model\n",
    "from tensorflow.keras.models import Model\n",
    "from tensorflow.keras.optimizers import Adam\n",
    "BERT_model = Model(inputs=[input_word_ids, input_mask, segment_ids], outputs=out)\n",
    "BERT_model.compile(Adam(learning_rate=2e-6), loss='categorical_crossentropy', metrics=['accuracy'])\n",
    "BERT_model.summary()"
   ]
  },
  {
   "cell_type": "code",
   "execution_count": null,
   "metadata": {
    "id": "YfBwDP3J2WDn"
   },
   "outputs": [],
   "source": [
    "BERT_model.compile(optimizer = 'adam', loss='categorical_crossentropy', metrics=['accuracy', 'Recall', 'Precision'])"
   ]
  },
  {
   "cell_type": "code",
   "execution_count": null,
   "metadata": {
    "colab": {
     "base_uri": "https://localhost:8080/"
    },
    "id": "yPMxB1X82ZGD",
    "outputId": "752fc810-61bc-4dc4-b4f2-ec3bc304e2a1"
   },
   "outputs": [],
   "source": [
    "# train\n",
    "train_history = BERT_model.fit(\n",
    "    train_input, categorical_labels,\n",
    "    validation_split=0.2,\n",
    "    epochs=20,\n",
    "    batch_size=128\n",
    ")"
   ]
  },
  {
   "cell_type": "code",
   "execution_count": null,
   "metadata": {
    "id": "WLmR2x-j2cO8"
   },
   "outputs": [],
   "source": [
    "BERT_model.save('BERT_model.h5')"
   ]
  },
  {
   "cell_type": "code",
   "execution_count": null,
   "metadata": {
    "id": "YvItqvEk2jDx"
   },
   "outputs": [],
   "source": [
    "train_history_df = pd.DataFrame(train_history.history)\n",
    "train_history_df['f1_score'] = (2 * train_history_df['precision']*train_history_df['recall'])/(train_history_df['precision']+train_history_df['recall'])\n",
    "train_history_df['val_f1_score'] = (2 * train_history_df['val_precision']*train_history_df['val_recall'])/(train_history_df['val_precision']+train_history_df['val_recall'])"
   ]
  },
  {
   "cell_type": "code",
   "execution_count": null,
   "metadata": {
    "id": "hZN2dc8z3vlo"
   },
   "outputs": [],
   "source": [
    "train_history_df.head(30)"
   ]
  },
  {
   "cell_type": "code",
   "execution_count": null,
   "metadata": {
    "id": "v35CXNDy-QJ2"
   },
   "outputs": [],
   "source": [
    "plt.plot(train_history.history['loss'], label='training data')\n",
    "plt.plot(train_history.history['val_loss'], label='validation data')\n",
    "plt.title('Categorical Crossentropy Loss Plot')\n",
    "plt.ylabel('loss value')\n",
    "plt.xlabel('No. of epoch')\n",
    "plt.legend(loc=\"lower right\")\n",
    "plt.show()"
   ]
  },
  {
   "cell_type": "code",
   "execution_count": null,
   "metadata": {
    "id": "61rZ_WO0-XjQ"
   },
   "outputs": [],
   "source": [
    "plt.subplots(figsize=(15,10))\n",
    "ax = plt.subplot(2,2,1)\n",
    "plt.plot(train_history.history['accuracy'], label='training_accuracy')\n",
    "plt.plot(train_history.history['val_accuracy'], label='test_accuracy')\n",
    "plt.title('Accuracy Plot')\n",
    "plt.ylabel('accuracy value')\n",
    "plt.xlabel('No. of epoch')\n",
    "plt.legend(loc=\"lower right\")\n",
    "\n",
    "ax = plt.subplot(2,2,2)\n",
    "plt.plot(train_history.history['precision'], label='training_precision')\n",
    "plt.plot(train_history.history['val_precision'], label='test_precision')\n",
    "plt.title('Precision Plot')\n",
    "plt.ylabel('precision value')\n",
    "plt.xlabel('No. of epoch')\n",
    "plt.legend(loc=\"lower right\")\n",
    "\n",
    "ax = plt.subplot(2,2,3)\n",
    "plt.plot(train_history.history['recall'], label='training_recall')\n",
    "plt.plot(train_history.history['val_recall'], label='test_recall')\n",
    "plt.title('Recall Plot')\n",
    "plt.ylabel('recall value')\n",
    "plt.xlabel('No. of epoch')\n",
    "plt.legend(loc=\"lower right\")\n",
    "\n",
    "ax = plt.subplot(2,2,4)\n",
    "plt.plot(train_history_df['f1_score'], label='training_f1')\n",
    "plt.plot(train_history_df['val_f1_score'], label='test_f1')\n",
    "plt.title('F1 Score Plot')\n",
    "plt.ylabel('f1 score value')\n",
    "plt.xlabel('No. of epoch')\n",
    "plt.legend(loc=\"lower right\")\n",
    "\n",
    "plt.tight_layout()\n",
    "plt.show()"
   ]
  },
  {
   "cell_type": "code",
   "execution_count": null,
   "metadata": {
    "id": "2zVzKu7Q-Xls"
   },
   "outputs": [],
   "source": [
    "inputs = tf.keras.layers.Input(shape=(None,))\n",
    "embedding = tf.keras.layers.Embedding(num_question_tokens, 200, mask_zero=True)(inputs)\n",
    "lstm_outputs = tf.keras.layers.Bidirectional(tf.keras.layers.LSTM(100, return_state=False), name='bidir') (embedding)\n",
    "dense_outputs = tf.keras.layers.Dense(500, activation=tf.keras.activations.relu) (lstm_outputs)\n",
    "outputs = tf.keras.layers.Dense(32, activation=tf.keras.activations.softmax) (dense_outputs)\n",
    "\n",
    "final_model = tf.keras.models.Model(inputs, outputs)\n",
    "final_model.compile(optimizer='adam', loss='categorical_crossentropy', metrics=['accuracy', 'Precision', 'Recall'])"
   ]
  },
  {
   "cell_type": "code",
   "execution_count": null,
   "metadata": {
    "id": "lWFubi_O-txb"
   },
   "outputs": [],
   "source": []
  }
 ],
 "metadata": {
  "colab": {
   "collapsed_sections": [],
   "name": "NLP J-COMP.ipynb",
   "provenance": []
  },
  "kernelspec": {
   "display_name": "Python 3 (ipykernel)",
   "language": "python",
   "name": "python3"
  },
  "language_info": {
   "codemirror_mode": {
    "name": "ipython",
    "version": 3
   },
   "file_extension": ".py",
   "mimetype": "text/x-python",
   "name": "python",
   "nbconvert_exporter": "python",
   "pygments_lexer": "ipython3",
   "version": "3.11.4"
  }
 },
 "nbformat": 4,
 "nbformat_minor": 4
}
